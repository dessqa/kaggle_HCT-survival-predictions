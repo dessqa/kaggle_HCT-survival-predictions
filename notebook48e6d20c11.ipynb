{
 "cells": [
  {
   "cell_type": "code",
   "execution_count": 1,
   "id": "7126c090",
   "metadata": {
    "_cell_guid": "b1076dfc-b9ad-4769-8c92-a6c4dae69d19",
    "_uuid": "8f2839f25d086af736a60e9eeb907d3b93b6e0e5",
    "execution": {
     "iopub.execute_input": "2025-01-22T19:29:12.533434Z",
     "iopub.status.busy": "2025-01-22T19:29:12.533045Z",
     "iopub.status.idle": "2025-01-22T19:29:13.436408Z",
     "shell.execute_reply": "2025-01-22T19:29:13.435008Z"
    },
    "papermill": {
     "duration": 0.91729,
     "end_time": "2025-01-22T19:29:13.438038",
     "exception": false,
     "start_time": "2025-01-22T19:29:12.520748",
     "status": "completed"
    },
    "tags": []
   },
   "outputs": [
    {
     "name": "stdout",
     "output_type": "stream",
     "text": [
      "/kaggle/input/pip-install-lifelines/fonttools-4.55.1-cp310-cp310-manylinux_2_17_x86_64.manylinux2014_x86_64.whl\n",
      "/kaggle/input/pip-install-lifelines/tzdata-2024.2-py2.py3-none-any.whl\n",
      "/kaggle/input/pip-install-lifelines/kiwisolver-1.4.7-cp310-cp310-manylinux_2_12_x86_64.manylinux2010_x86_64.whl\n",
      "/kaggle/input/pip-install-lifelines/interface_meta-1.3.0-py3-none-any.whl\n",
      "/kaggle/input/pip-install-lifelines/scipy-1.14.1-cp310-cp310-manylinux_2_17_x86_64.manylinux2014_x86_64.whl\n",
      "/kaggle/input/pip-install-lifelines/pillow-11.0.0-cp310-cp310-manylinux_2_28_x86_64.whl\n",
      "/kaggle/input/pip-install-lifelines/contourpy-1.3.1-cp310-cp310-manylinux_2_17_x86_64.manylinux2014_x86_64.whl\n",
      "/kaggle/input/pip-install-lifelines/pyparsing-3.2.0-py3-none-any.whl\n",
      "/kaggle/input/pip-install-lifelines/wrapt-1.17.0-cp310-cp310-manylinux_2_5_x86_64.manylinux1_x86_64.manylinux_2_17_x86_64.manylinux2014_x86_64.whl\n",
      "/kaggle/input/pip-install-lifelines/__results__.html\n",
      "/kaggle/input/pip-install-lifelines/cycler-0.12.1-py3-none-any.whl\n",
      "/kaggle/input/pip-install-lifelines/autograd-1.7.0-py3-none-any.whl\n",
      "/kaggle/input/pip-install-lifelines/numpy-2.1.3-cp310-cp310-manylinux_2_17_x86_64.manylinux2014_x86_64.whl\n",
      "/kaggle/input/pip-install-lifelines/matplotlib-3.9.3-cp310-cp310-manylinux_2_17_x86_64.manylinux2014_x86_64.whl\n",
      "/kaggle/input/pip-install-lifelines/six-1.17.0-py2.py3-none-any.whl\n",
      "/kaggle/input/pip-install-lifelines/lifelines-0.30.0-py3-none-any.whl\n",
      "/kaggle/input/pip-install-lifelines/formulaic-1.0.2-py3-none-any.whl\n",
      "/kaggle/input/pip-install-lifelines/autograd-gamma-0.5.0.tar.gz\n",
      "/kaggle/input/pip-install-lifelines/python_dateutil-2.9.0.post0-py2.py3-none-any.whl\n",
      "/kaggle/input/pip-install-lifelines/__notebook__.ipynb\n",
      "/kaggle/input/pip-install-lifelines/__output__.json\n",
      "/kaggle/input/pip-install-lifelines/typing_extensions-4.12.2-py3-none-any.whl\n",
      "/kaggle/input/pip-install-lifelines/pytz-2024.2-py2.py3-none-any.whl\n",
      "/kaggle/input/pip-install-lifelines/pandas-2.2.3-cp310-cp310-manylinux_2_17_x86_64.manylinux2014_x86_64.whl\n",
      "/kaggle/input/pip-install-lifelines/packaging-24.2-py3-none-any.whl\n",
      "/kaggle/input/pip-install-lifelines/custom.css\n",
      "/kaggle/input/equity-post-HCT-survival-predictions/sample_submission.csv\n",
      "/kaggle/input/equity-post-HCT-survival-predictions/data_dictionary.csv\n",
      "/kaggle/input/equity-post-HCT-survival-predictions/train.csv\n",
      "/kaggle/input/equity-post-HCT-survival-predictions/test.csv\n"
     ]
    }
   ],
   "source": [
    "# This Python 3 environment comes with many helpful analytics libraries installed\n",
    "# It is defined by the kaggle/python Docker image: https://github.com/kaggle/docker-python\n",
    "# For example, here's several helpful packages to load\n",
    "\n",
    "import numpy as np # linear algebra\n",
    "import pandas as pd # data processing, CSV file I/O (e.g. pd.read_csv)\n",
    "\n",
    "# Input data files are available in the read-only \"../input/\" directory\n",
    "# For example, running this (by clicking run or pressing Shift+Enter) will list all files under the input directory\n",
    "\n",
    "import os\n",
    "for dirname, _, filenames in os.walk('/kaggle/input'):\n",
    "    for filename in filenames:\n",
    "        print(os.path.join(dirname, filename))\n",
    "\n",
    "# You can write up to 20GB to the current directory (/kaggle/working/) that gets preserved as output when you create a version using \"Save & Run All\" \n",
    "# You can also write temporary files to /kaggle/temp/, but they won't be saved outside of the current session"
   ]
  },
  {
   "cell_type": "code",
   "execution_count": 2,
   "id": "f0c37680",
   "metadata": {
    "execution": {
     "iopub.execute_input": "2025-01-22T19:29:13.460981Z",
     "iopub.status.busy": "2025-01-22T19:29:13.460478Z",
     "iopub.status.idle": "2025-01-22T19:29:13.464499Z",
     "shell.execute_reply": "2025-01-22T19:29:13.463565Z"
    },
    "papermill": {
     "duration": 0.017058,
     "end_time": "2025-01-22T19:29:13.466068",
     "exception": false,
     "start_time": "2025-01-22T19:29:13.449010",
     "status": "completed"
    },
    "tags": []
   },
   "outputs": [],
   "source": [
    "import matplotlib.pyplot as plt\n"
   ]
  },
  {
   "cell_type": "code",
   "execution_count": 3,
   "id": "4f9224ff",
   "metadata": {
    "collapsed": true,
    "execution": {
     "iopub.execute_input": "2025-01-22T19:29:13.488509Z",
     "iopub.status.busy": "2025-01-22T19:29:13.488134Z",
     "iopub.status.idle": "2025-01-22T19:29:13.491788Z",
     "shell.execute_reply": "2025-01-22T19:29:13.490820Z"
    },
    "jupyter": {
     "outputs_hidden": true
    },
    "papermill": {
     "duration": 0.016832,
     "end_time": "2025-01-22T19:29:13.493590",
     "exception": false,
     "start_time": "2025-01-22T19:29:13.476758",
     "status": "completed"
    },
    "tags": []
   },
   "outputs": [],
   "source": [
    "# !pip install /kaggle/input/pip-install-lifelines/autograd-1.7.0-py3-none-any.whl\n",
    "# !pip install /kaggle/input/pip-install-lifelines/autograd-gamma-0.5.0.tar.gz\n",
    "# !pip install /kaggle/input/pip-install-lifelines/interface_meta-1.3.0-py3-none-any.whl\n",
    "# !pip install /kaggle/input/pip-install-lifelines/formulaic-1.0.2-py3-none-any.whl\n",
    "# !pip install /kaggle/input/pip-install-lifelines/lifelines-0.30.0-py3-none-any.whl\n"
   ]
  },
  {
   "cell_type": "code",
   "execution_count": 4,
   "id": "caf56c14",
   "metadata": {
    "collapsed": true,
    "execution": {
     "iopub.execute_input": "2025-01-22T19:29:13.516212Z",
     "iopub.status.busy": "2025-01-22T19:29:13.515894Z",
     "iopub.status.idle": "2025-01-22T19:29:13.519604Z",
     "shell.execute_reply": "2025-01-22T19:29:13.518650Z"
    },
    "jupyter": {
     "outputs_hidden": true
    },
    "papermill": {
     "duration": 0.016715,
     "end_time": "2025-01-22T19:29:13.521191",
     "exception": false,
     "start_time": "2025-01-22T19:29:13.504476",
     "status": "completed"
    },
    "tags": []
   },
   "outputs": [],
   "source": [
    "# !pip download lifelines"
   ]
  },
  {
   "cell_type": "code",
   "execution_count": 5,
   "id": "d1f9d160",
   "metadata": {
    "execution": {
     "iopub.execute_input": "2025-01-22T19:29:13.544297Z",
     "iopub.status.busy": "2025-01-22T19:29:13.543940Z",
     "iopub.status.idle": "2025-01-22T19:29:50.386615Z",
     "shell.execute_reply": "2025-01-22T19:29:50.385555Z"
    },
    "papermill": {
     "duration": 36.856701,
     "end_time": "2025-01-22T19:29:50.388593",
     "exception": false,
     "start_time": "2025-01-22T19:29:13.531892",
     "status": "completed"
    },
    "tags": []
   },
   "outputs": [
    {
     "name": "stdout",
     "output_type": "stream",
     "text": [
      "/kaggle/input/pip-install-lifelines/fonttools-4.55.1-cp310-cp310-manylinux_2_17_x86_64.manylinux2014_x86_64.whl\n",
      "/kaggle/input/pip-install-lifelines/tzdata-2024.2-py2.py3-none-any.whl\n",
      "/kaggle/input/pip-install-lifelines/kiwisolver-1.4.7-cp310-cp310-manylinux_2_12_x86_64.manylinux2010_x86_64.whl\n",
      "/kaggle/input/pip-install-lifelines/interface_meta-1.3.0-py3-none-any.whl\n",
      "/kaggle/input/pip-install-lifelines/scipy-1.14.1-cp310-cp310-manylinux_2_17_x86_64.manylinux2014_x86_64.whl\n",
      "/kaggle/input/pip-install-lifelines/pillow-11.0.0-cp310-cp310-manylinux_2_28_x86_64.whl\n",
      "/kaggle/input/pip-install-lifelines/contourpy-1.3.1-cp310-cp310-manylinux_2_17_x86_64.manylinux2014_x86_64.whl\n",
      "/kaggle/input/pip-install-lifelines/pyparsing-3.2.0-py3-none-any.whl\n",
      "/kaggle/input/pip-install-lifelines/wrapt-1.17.0-cp310-cp310-manylinux_2_5_x86_64.manylinux1_x86_64.manylinux_2_17_x86_64.manylinux2014_x86_64.whl\n",
      "/kaggle/input/pip-install-lifelines/__results__.html\n",
      "/kaggle/input/pip-install-lifelines/cycler-0.12.1-py3-none-any.whl\n",
      "/kaggle/input/pip-install-lifelines/autograd-1.7.0-py3-none-any.whl\n",
      "/kaggle/input/pip-install-lifelines/numpy-2.1.3-cp310-cp310-manylinux_2_17_x86_64.manylinux2014_x86_64.whl\n",
      "/kaggle/input/pip-install-lifelines/matplotlib-3.9.3-cp310-cp310-manylinux_2_17_x86_64.manylinux2014_x86_64.whl\n",
      "/kaggle/input/pip-install-lifelines/six-1.17.0-py2.py3-none-any.whl\n",
      "/kaggle/input/pip-install-lifelines/lifelines-0.30.0-py3-none-any.whl\n",
      "/kaggle/input/pip-install-lifelines/formulaic-1.0.2-py3-none-any.whl\n",
      "/kaggle/input/pip-install-lifelines/autograd-gamma-0.5.0.tar.gz\n",
      "/kaggle/input/pip-install-lifelines/python_dateutil-2.9.0.post0-py2.py3-none-any.whl\n",
      "/kaggle/input/pip-install-lifelines/__notebook__.ipynb\n",
      "/kaggle/input/pip-install-lifelines/__output__.json\n",
      "/kaggle/input/pip-install-lifelines/typing_extensions-4.12.2-py3-none-any.whl\n",
      "/kaggle/input/pip-install-lifelines/pytz-2024.2-py2.py3-none-any.whl\n",
      "/kaggle/input/pip-install-lifelines/pandas-2.2.3-cp310-cp310-manylinux_2_17_x86_64.manylinux2014_x86_64.whl\n",
      "/kaggle/input/pip-install-lifelines/packaging-24.2-py3-none-any.whl\n",
      "/kaggle/input/pip-install-lifelines/custom.css\n",
      "/kaggle/input/equity-post-HCT-survival-predictions/sample_submission.csv\n",
      "/kaggle/input/equity-post-HCT-survival-predictions/data_dictionary.csv\n",
      "/kaggle/input/equity-post-HCT-survival-predictions/train.csv\n",
      "/kaggle/input/equity-post-HCT-survival-predictions/test.csv\n",
      "Collecting lifelines\r\n",
      "  Downloading lifelines-0.30.0-py3-none-any.whl.metadata (3.2 kB)\r\n",
      "Collecting numpy>=1.14.0 (from lifelines)\r\n",
      "  Downloading numpy-2.2.2-cp310-cp310-manylinux_2_17_x86_64.manylinux2014_x86_64.whl.metadata (62 kB)\r\n",
      "\u001b[2K     \u001b[90m━━━━━━━━━━━━━━━━━━━━━━━━━━━━━━━━━━━━━━━━\u001b[0m \u001b[32m62.0/62.0 kB\u001b[0m \u001b[31m2.2 MB/s\u001b[0m eta \u001b[36m0:00:00\u001b[0m\r\n",
      "\u001b[?25hCollecting scipy>=1.7.0 (from lifelines)\r\n",
      "  Downloading scipy-1.15.1-cp310-cp310-manylinux_2_17_x86_64.manylinux2014_x86_64.whl.metadata (61 kB)\r\n",
      "\u001b[2K     \u001b[90m━━━━━━━━━━━━━━━━━━━━━━━━━━━━━━━━━━━━━━━━\u001b[0m \u001b[32m62.0/62.0 kB\u001b[0m \u001b[31m3.4 MB/s\u001b[0m eta \u001b[36m0:00:00\u001b[0m\r\n",
      "\u001b[?25hCollecting pandas>=2.1 (from lifelines)\r\n",
      "  Downloading pandas-2.2.3-cp310-cp310-manylinux_2_17_x86_64.manylinux2014_x86_64.whl.metadata (89 kB)\r\n",
      "\u001b[2K     \u001b[90m━━━━━━━━━━━━━━━━━━━━━━━━━━━━━━━━━━━━━━━━\u001b[0m \u001b[32m89.9/89.9 kB\u001b[0m \u001b[31m4.2 MB/s\u001b[0m eta \u001b[36m0:00:00\u001b[0m\r\n",
      "\u001b[?25hCollecting matplotlib>=3.0 (from lifelines)\r\n",
      "  Downloading matplotlib-3.10.0-cp310-cp310-manylinux_2_17_x86_64.manylinux2014_x86_64.whl.metadata (11 kB)\r\n",
      "Collecting autograd>=1.5 (from lifelines)\r\n",
      "  Downloading autograd-1.7.0-py3-none-any.whl.metadata (7.5 kB)\r\n",
      "Collecting autograd-gamma>=0.3 (from lifelines)\r\n",
      "  Downloading autograd-gamma-0.5.0.tar.gz (4.0 kB)\r\n",
      "  Preparing metadata (setup.py) ... \u001b[?25l\u001b[?25hdone\r\n",
      "Collecting formulaic>=0.2.2 (from lifelines)\r\n",
      "  Downloading formulaic-1.1.1-py3-none-any.whl.metadata (6.9 kB)\r\n",
      "Collecting interface-meta>=1.2.0 (from formulaic>=0.2.2->lifelines)\r\n",
      "  Downloading interface_meta-1.3.0-py3-none-any.whl.metadata (6.7 kB)\r\n",
      "Collecting typing-extensions>=4.2.0 (from formulaic>=0.2.2->lifelines)\r\n",
      "  Downloading typing_extensions-4.12.2-py3-none-any.whl.metadata (3.0 kB)\r\n",
      "Collecting wrapt>=1.0 (from formulaic>=0.2.2->lifelines)\r\n",
      "  Downloading wrapt-1.17.2-cp310-cp310-manylinux_2_5_x86_64.manylinux1_x86_64.manylinux_2_17_x86_64.manylinux2014_x86_64.whl.metadata (6.4 kB)\r\n",
      "Collecting contourpy>=1.0.1 (from matplotlib>=3.0->lifelines)\r\n",
      "  Downloading contourpy-1.3.1-cp310-cp310-manylinux_2_17_x86_64.manylinux2014_x86_64.whl.metadata (5.4 kB)\r\n",
      "Collecting cycler>=0.10 (from matplotlib>=3.0->lifelines)\r\n",
      "  Downloading cycler-0.12.1-py3-none-any.whl.metadata (3.8 kB)\r\n",
      "Collecting fonttools>=4.22.0 (from matplotlib>=3.0->lifelines)\r\n",
      "  Downloading fonttools-4.55.4-cp310-cp310-manylinux_2_17_x86_64.manylinux2014_x86_64.whl.metadata (165 kB)\r\n",
      "\u001b[2K     \u001b[90m━━━━━━━━━━━━━━━━━━━━━━━━━━━━━━━━━━━━━━━━\u001b[0m \u001b[32m165.7/165.7 kB\u001b[0m \u001b[31m7.7 MB/s\u001b[0m eta \u001b[36m0:00:00\u001b[0m\r\n",
      "\u001b[?25hCollecting kiwisolver>=1.3.1 (from matplotlib>=3.0->lifelines)\r\n",
      "  Downloading kiwisolver-1.4.8-cp310-cp310-manylinux_2_12_x86_64.manylinux2010_x86_64.whl.metadata (6.2 kB)\r\n",
      "Collecting packaging>=20.0 (from matplotlib>=3.0->lifelines)\r\n",
      "  Downloading packaging-24.2-py3-none-any.whl.metadata (3.2 kB)\r\n",
      "Collecting pillow>=8 (from matplotlib>=3.0->lifelines)\r\n",
      "  Downloading pillow-11.1.0-cp310-cp310-manylinux_2_28_x86_64.whl.metadata (9.1 kB)\r\n",
      "Collecting pyparsing>=2.3.1 (from matplotlib>=3.0->lifelines)\r\n",
      "  Downloading pyparsing-3.2.1-py3-none-any.whl.metadata (5.0 kB)\r\n",
      "Collecting python-dateutil>=2.7 (from matplotlib>=3.0->lifelines)\r\n",
      "  Downloading python_dateutil-2.9.0.post0-py2.py3-none-any.whl.metadata (8.4 kB)\r\n",
      "Collecting pytz>=2020.1 (from pandas>=2.1->lifelines)\r\n",
      "  Downloading pytz-2024.2-py2.py3-none-any.whl.metadata (22 kB)\r\n",
      "Collecting tzdata>=2022.7 (from pandas>=2.1->lifelines)\r\n",
      "  Downloading tzdata-2025.1-py2.py3-none-any.whl.metadata (1.4 kB)\r\n",
      "Collecting six>=1.5 (from python-dateutil>=2.7->matplotlib>=3.0->lifelines)\r\n",
      "  Downloading six-1.17.0-py2.py3-none-any.whl.metadata (1.7 kB)\r\n",
      "Downloading lifelines-0.30.0-py3-none-any.whl (349 kB)\r\n",
      "\u001b[2K   \u001b[90m━━━━━━━━━━━━━━━━━━━━━━━━━━━━━━━━━━━━━━━━\u001b[0m \u001b[32m349.3/349.3 kB\u001b[0m \u001b[31m16.1 MB/s\u001b[0m eta \u001b[36m0:00:00\u001b[0m\r\n",
      "\u001b[?25hDownloading autograd-1.7.0-py3-none-any.whl (52 kB)\r\n",
      "\u001b[2K   \u001b[90m━━━━━━━━━━━━━━━━━━━━━━━━━━━━━━━━━━━━━━━━\u001b[0m \u001b[32m52.5/52.5 kB\u001b[0m \u001b[31m2.5 MB/s\u001b[0m eta \u001b[36m0:00:00\u001b[0m\r\n",
      "\u001b[?25hDownloading formulaic-1.1.1-py3-none-any.whl (115 kB)\r\n",
      "\u001b[2K   \u001b[90m━━━━━━━━━━━━━━━━━━━━━━━━━━━━━━━━━━━━━━━━\u001b[0m \u001b[32m115.7/115.7 kB\u001b[0m \u001b[31m6.2 MB/s\u001b[0m eta \u001b[36m0:00:00\u001b[0m\r\n",
      "\u001b[?25hDownloading matplotlib-3.10.0-cp310-cp310-manylinux_2_17_x86_64.manylinux2014_x86_64.whl (8.6 MB)\r\n",
      "\u001b[2K   \u001b[90m━━━━━━━━━━━━━━━━━━━━━━━━━━━━━━━━━━━━━━━━\u001b[0m \u001b[32m8.6/8.6 MB\u001b[0m \u001b[31m80.2 MB/s\u001b[0m eta \u001b[36m0:00:00\u001b[0m\r\n",
      "\u001b[?25hDownloading numpy-2.2.2-cp310-cp310-manylinux_2_17_x86_64.manylinux2014_x86_64.whl (16.4 MB)\r\n",
      "\u001b[2K   \u001b[90m━━━━━━━━━━━━━━━━━━━━━━━━━━━━━━━━━━━━━━━━\u001b[0m \u001b[32m16.4/16.4 MB\u001b[0m \u001b[31m70.0 MB/s\u001b[0m eta \u001b[36m0:00:00\u001b[0m\r\n",
      "\u001b[?25hDownloading pandas-2.2.3-cp310-cp310-manylinux_2_17_x86_64.manylinux2014_x86_64.whl (13.1 MB)\r\n",
      "\u001b[2K   \u001b[90m━━━━━━━━━━━━━━━━━━━━━━━━━━━━━━━━━━━━━━━━\u001b[0m \u001b[32m13.1/13.1 MB\u001b[0m \u001b[31m67.6 MB/s\u001b[0m eta \u001b[36m0:00:00\u001b[0m\r\n",
      "\u001b[?25hDownloading scipy-1.15.1-cp310-cp310-manylinux_2_17_x86_64.manylinux2014_x86_64.whl (40.6 MB)\r\n",
      "\u001b[2K   \u001b[90m━━━━━━━━━━━━━━━━━━━━━━━━━━━━━━━━━━━━━━━━\u001b[0m \u001b[32m40.6/40.6 MB\u001b[0m \u001b[31m33.3 MB/s\u001b[0m eta \u001b[36m0:00:00\u001b[0m\r\n",
      "\u001b[?25hDownloading contourpy-1.3.1-cp310-cp310-manylinux_2_17_x86_64.manylinux2014_x86_64.whl (324 kB)\r\n",
      "\u001b[2K   \u001b[90m━━━━━━━━━━━━━━━━━━━━━━━━━━━━━━━━━━━━━━━━\u001b[0m \u001b[32m325.0/325.0 kB\u001b[0m \u001b[31m15.0 MB/s\u001b[0m eta \u001b[36m0:00:00\u001b[0m\r\n",
      "\u001b[?25hDownloading cycler-0.12.1-py3-none-any.whl (8.3 kB)\r\n",
      "Downloading fonttools-4.55.4-cp310-cp310-manylinux_2_17_x86_64.manylinux2014_x86_64.whl (4.6 MB)\r\n",
      "\u001b[2K   \u001b[90m━━━━━━━━━━━━━━━━━━━━━━━━━━━━━━━━━━━━━━━━\u001b[0m \u001b[32m4.6/4.6 MB\u001b[0m \u001b[31m72.1 MB/s\u001b[0m eta \u001b[36m0:00:00\u001b[0m\r\n",
      "\u001b[?25hDownloading interface_meta-1.3.0-py3-none-any.whl (14 kB)\r\n",
      "Downloading kiwisolver-1.4.8-cp310-cp310-manylinux_2_12_x86_64.manylinux2010_x86_64.whl (1.6 MB)\r\n",
      "\u001b[2K   \u001b[90m━━━━━━━━━━━━━━━━━━━━━━━━━━━━━━━━━━━━━━━━\u001b[0m \u001b[32m1.6/1.6 MB\u001b[0m \u001b[31m40.1 MB/s\u001b[0m eta \u001b[36m0:00:00\u001b[0m\r\n",
      "\u001b[?25hDownloading packaging-24.2-py3-none-any.whl (65 kB)\r\n",
      "\u001b[2K   \u001b[90m━━━━━━━━━━━━━━━━━━━━━━━━━━━━━━━━━━━━━━━━\u001b[0m \u001b[32m65.5/65.5 kB\u001b[0m \u001b[31m3.6 MB/s\u001b[0m eta \u001b[36m0:00:00\u001b[0m\r\n",
      "\u001b[?25hDownloading pillow-11.1.0-cp310-cp310-manylinux_2_28_x86_64.whl (4.5 MB)\r\n",
      "\u001b[2K   \u001b[90m━━━━━━━━━━━━━━━━━━━━━━━━━━━━━━━━━━━━━━━━\u001b[0m \u001b[32m4.5/4.5 MB\u001b[0m \u001b[31m69.6 MB/s\u001b[0m eta \u001b[36m0:00:00\u001b[0m\r\n",
      "\u001b[?25hDownloading pyparsing-3.2.1-py3-none-any.whl (107 kB)\r\n",
      "\u001b[2K   \u001b[90m━━━━━━━━━━━━━━━━━━━━━━━━━━━━━━━━━━━━━━━━\u001b[0m \u001b[32m107.7/107.7 kB\u001b[0m \u001b[31m5.0 MB/s\u001b[0m eta \u001b[36m0:00:00\u001b[0m\r\n",
      "\u001b[?25hDownloading python_dateutil-2.9.0.post0-py2.py3-none-any.whl (229 kB)\r\n",
      "\u001b[2K   \u001b[90m━━━━━━━━━━━━━━━━━━━━━━━━━━━━━━━━━━━━━━━━\u001b[0m \u001b[32m229.9/229.9 kB\u001b[0m \u001b[31m11.6 MB/s\u001b[0m eta \u001b[36m0:00:00\u001b[0m\r\n",
      "\u001b[?25hDownloading pytz-2024.2-py2.py3-none-any.whl (508 kB)\r\n",
      "\u001b[2K   \u001b[90m━━━━━━━━━━━━━━━━━━━━━━━━━━━━━━━━━━━━━━━━\u001b[0m \u001b[32m508.0/508.0 kB\u001b[0m \u001b[31m22.7 MB/s\u001b[0m eta \u001b[36m0:00:00\u001b[0m\r\n",
      "\u001b[?25hDownloading typing_extensions-4.12.2-py3-none-any.whl (37 kB)\r\n",
      "Downloading tzdata-2025.1-py2.py3-none-any.whl (346 kB)\r\n",
      "\u001b[2K   \u001b[90m━━━━━━━━━━━━━━━━━━━━━━━━━━━━━━━━━━━━━━━━\u001b[0m \u001b[32m346.8/346.8 kB\u001b[0m \u001b[31m14.7 MB/s\u001b[0m eta \u001b[36m0:00:00\u001b[0m\r\n",
      "\u001b[?25hDownloading wrapt-1.17.2-cp310-cp310-manylinux_2_5_x86_64.manylinux1_x86_64.manylinux_2_17_x86_64.manylinux2014_x86_64.whl (82 kB)\r\n",
      "\u001b[2K   \u001b[90m━━━━━━━━━━━━━━━━━━━━━━━━━━━━━━━━━━━━━━━━\u001b[0m \u001b[32m82.8/82.8 kB\u001b[0m \u001b[31m3.6 MB/s\u001b[0m eta \u001b[36m0:00:00\u001b[0m\r\n",
      "\u001b[?25hDownloading six-1.17.0-py2.py3-none-any.whl (11 kB)\r\n",
      "Saved ./lifelines-0.30.0-py3-none-any.whl\r\n",
      "Saved ./autograd-1.7.0-py3-none-any.whl\r\n",
      "Saved ./autograd-gamma-0.5.0.tar.gz\r\n",
      "Saved ./formulaic-1.1.1-py3-none-any.whl\r\n",
      "Saved ./matplotlib-3.10.0-cp310-cp310-manylinux_2_17_x86_64.manylinux2014_x86_64.whl\r\n",
      "Saved ./numpy-2.2.2-cp310-cp310-manylinux_2_17_x86_64.manylinux2014_x86_64.whl\r\n",
      "Saved ./pandas-2.2.3-cp310-cp310-manylinux_2_17_x86_64.manylinux2014_x86_64.whl\r\n",
      "Saved ./scipy-1.15.1-cp310-cp310-manylinux_2_17_x86_64.manylinux2014_x86_64.whl\r\n",
      "Saved ./contourpy-1.3.1-cp310-cp310-manylinux_2_17_x86_64.manylinux2014_x86_64.whl\r\n",
      "Saved ./cycler-0.12.1-py3-none-any.whl\r\n",
      "Saved ./fonttools-4.55.4-cp310-cp310-manylinux_2_17_x86_64.manylinux2014_x86_64.whl\r\n",
      "Saved ./interface_meta-1.3.0-py3-none-any.whl\r\n",
      "Saved ./kiwisolver-1.4.8-cp310-cp310-manylinux_2_12_x86_64.manylinux2010_x86_64.whl\r\n",
      "Saved ./packaging-24.2-py3-none-any.whl\r\n",
      "Saved ./pillow-11.1.0-cp310-cp310-manylinux_2_28_x86_64.whl\r\n",
      "Saved ./pyparsing-3.2.1-py3-none-any.whl\r\n",
      "Saved ./python_dateutil-2.9.0.post0-py2.py3-none-any.whl\r\n",
      "Saved ./pytz-2024.2-py2.py3-none-any.whl\r\n",
      "Saved ./typing_extensions-4.12.2-py3-none-any.whl\r\n",
      "Saved ./tzdata-2025.1-py2.py3-none-any.whl\r\n",
      "Saved ./wrapt-1.17.2-cp310-cp310-manylinux_2_5_x86_64.manylinux1_x86_64.manylinux_2_17_x86_64.manylinux2014_x86_64.whl\r\n",
      "Saved ./six-1.17.0-py2.py3-none-any.whl\r\n",
      "Successfully downloaded lifelines autograd autograd-gamma formulaic matplotlib numpy pandas scipy contourpy cycler fonttools interface-meta kiwisolver packaging pillow pyparsing python-dateutil pytz typing-extensions tzdata wrapt six\r\n",
      "Processing ./autograd-1.7.0-py3-none-any.whl\r\n",
      "Requirement already satisfied: numpy in /usr/local/lib/python3.10/dist-packages (from autograd==1.7.0) (1.26.4)\r\n",
      "Requirement already satisfied: mkl_fft in /usr/local/lib/python3.10/dist-packages (from numpy->autograd==1.7.0) (1.3.8)\r\n",
      "Requirement already satisfied: mkl_random in /usr/local/lib/python3.10/dist-packages (from numpy->autograd==1.7.0) (1.2.4)\r\n",
      "Requirement already satisfied: mkl_umath in /usr/local/lib/python3.10/dist-packages (from numpy->autograd==1.7.0) (0.1.1)\r\n",
      "Requirement already satisfied: mkl in /usr/local/lib/python3.10/dist-packages (from numpy->autograd==1.7.0) (2025.0.1)\r\n",
      "Requirement already satisfied: tbb4py in /usr/local/lib/python3.10/dist-packages (from numpy->autograd==1.7.0) (2022.0.0)\r\n",
      "Requirement already satisfied: mkl-service in /usr/local/lib/python3.10/dist-packages (from numpy->autograd==1.7.0) (2.4.1)\r\n",
      "Requirement already satisfied: intel-openmp>=2024 in /usr/local/lib/python3.10/dist-packages (from mkl->numpy->autograd==1.7.0) (2024.2.0)\r\n",
      "Requirement already satisfied: tbb==2022.* in /usr/local/lib/python3.10/dist-packages (from mkl->numpy->autograd==1.7.0) (2022.0.0)\r\n",
      "Requirement already satisfied: tcmlib==1.* in /usr/local/lib/python3.10/dist-packages (from tbb==2022.*->mkl->numpy->autograd==1.7.0) (1.2.0)\r\n",
      "Requirement already satisfied: intel-cmplr-lib-rt in /usr/local/lib/python3.10/dist-packages (from mkl_umath->numpy->autograd==1.7.0) (2024.2.0)\r\n",
      "Requirement already satisfied: intel-cmplr-lib-ur==2024.2.0 in /usr/local/lib/python3.10/dist-packages (from intel-openmp>=2024->mkl->numpy->autograd==1.7.0) (2024.2.0)\r\n",
      "autograd is already installed with the same version as the provided wheel. Use --force-reinstall to force an installation of the wheel.\r\n",
      "Processing ./autograd-gamma-0.5.0.tar.gz\r\n",
      "  Preparing metadata (setup.py) ... \u001b[?25l\u001b[?25hdone\r\n",
      "Requirement already satisfied: autograd>=1.2.0 in /usr/local/lib/python3.10/dist-packages (from autograd-gamma==0.5.0) (1.7.0)\r\n",
      "Requirement already satisfied: scipy>=1.2.0 in /usr/local/lib/python3.10/dist-packages (from autograd-gamma==0.5.0) (1.13.1)\r\n",
      "Requirement already satisfied: numpy in /usr/local/lib/python3.10/dist-packages (from autograd>=1.2.0->autograd-gamma==0.5.0) (1.26.4)\r\n",
      "Requirement already satisfied: mkl_fft in /usr/local/lib/python3.10/dist-packages (from numpy->autograd>=1.2.0->autograd-gamma==0.5.0) (1.3.8)\r\n",
      "Requirement already satisfied: mkl_random in /usr/local/lib/python3.10/dist-packages (from numpy->autograd>=1.2.0->autograd-gamma==0.5.0) (1.2.4)\r\n",
      "Requirement already satisfied: mkl_umath in /usr/local/lib/python3.10/dist-packages (from numpy->autograd>=1.2.0->autograd-gamma==0.5.0) (0.1.1)\r\n",
      "Requirement already satisfied: mkl in /usr/local/lib/python3.10/dist-packages (from numpy->autograd>=1.2.0->autograd-gamma==0.5.0) (2025.0.1)\r\n",
      "Requirement already satisfied: tbb4py in /usr/local/lib/python3.10/dist-packages (from numpy->autograd>=1.2.0->autograd-gamma==0.5.0) (2022.0.0)\r\n",
      "Requirement already satisfied: mkl-service in /usr/local/lib/python3.10/dist-packages (from numpy->autograd>=1.2.0->autograd-gamma==0.5.0) (2.4.1)\r\n",
      "Requirement already satisfied: intel-openmp>=2024 in /usr/local/lib/python3.10/dist-packages (from mkl->numpy->autograd>=1.2.0->autograd-gamma==0.5.0) (2024.2.0)\r\n",
      "Requirement already satisfied: tbb==2022.* in /usr/local/lib/python3.10/dist-packages (from mkl->numpy->autograd>=1.2.0->autograd-gamma==0.5.0) (2022.0.0)\r\n",
      "Requirement already satisfied: tcmlib==1.* in /usr/local/lib/python3.10/dist-packages (from tbb==2022.*->mkl->numpy->autograd>=1.2.0->autograd-gamma==0.5.0) (1.2.0)\r\n",
      "Requirement already satisfied: intel-cmplr-lib-rt in /usr/local/lib/python3.10/dist-packages (from mkl_umath->numpy->autograd>=1.2.0->autograd-gamma==0.5.0) (2024.2.0)\r\n",
      "Requirement already satisfied: intel-cmplr-lib-ur==2024.2.0 in /usr/local/lib/python3.10/dist-packages (from intel-openmp>=2024->mkl->numpy->autograd>=1.2.0->autograd-gamma==0.5.0) (2024.2.0)\r\n",
      "Building wheels for collected packages: autograd-gamma\r\n",
      "  Building wheel for autograd-gamma (setup.py) ... \u001b[?25l\u001b[?25hdone\r\n",
      "  Created wheel for autograd-gamma: filename=autograd_gamma-0.5.0-py3-none-any.whl size=4031 sha256=f8e0a679c2f5c5bdf1cd4d4b8b1798cdbd953c5c403700d1e8f8527d4d2c0193\r\n",
      "  Stored in directory: /root/.cache/pip/wheels/ec/27/83/4bda576d6742769ddb4c38ded59b87c3466eaf2ab10cc6bdb3\r\n",
      "Successfully built autograd-gamma\r\n",
      "Installing collected packages: autograd-gamma\r\n",
      "Successfully installed autograd-gamma-0.5.0\r\n",
      "Processing ./interface_meta-1.3.0-py3-none-any.whl\r\n",
      "Installing collected packages: interface-meta\r\n",
      "Successfully installed interface-meta-1.3.0\r\n",
      "Processing ./formulaic-1.1.1-py3-none-any.whl\r\n",
      "Requirement already satisfied: interface-meta>=1.2.0 in /usr/local/lib/python3.10/dist-packages (from formulaic==1.1.1) (1.3.0)\r\n",
      "Requirement already satisfied: numpy>=1.16.5 in /usr/local/lib/python3.10/dist-packages (from formulaic==1.1.1) (1.26.4)\r\n",
      "Requirement already satisfied: pandas>=1.0 in /usr/local/lib/python3.10/dist-packages (from formulaic==1.1.1) (2.2.2)\r\n",
      "Requirement already satisfied: scipy>=1.6 in /usr/local/lib/python3.10/dist-packages (from formulaic==1.1.1) (1.13.1)\r\n",
      "Requirement already satisfied: typing-extensions>=4.2.0 in /usr/local/lib/python3.10/dist-packages (from formulaic==1.1.1) (4.12.2)\r\n",
      "Requirement already satisfied: wrapt>=1.0 in /usr/local/lib/python3.10/dist-packages (from formulaic==1.1.1) (1.17.0)\r\n",
      "Requirement already satisfied: mkl_fft in /usr/local/lib/python3.10/dist-packages (from numpy>=1.16.5->formulaic==1.1.1) (1.3.8)\r\n",
      "Requirement already satisfied: mkl_random in /usr/local/lib/python3.10/dist-packages (from numpy>=1.16.5->formulaic==1.1.1) (1.2.4)\r\n",
      "Requirement already satisfied: mkl_umath in /usr/local/lib/python3.10/dist-packages (from numpy>=1.16.5->formulaic==1.1.1) (0.1.1)\r\n",
      "Requirement already satisfied: mkl in /usr/local/lib/python3.10/dist-packages (from numpy>=1.16.5->formulaic==1.1.1) (2025.0.1)\r\n",
      "Requirement already satisfied: tbb4py in /usr/local/lib/python3.10/dist-packages (from numpy>=1.16.5->formulaic==1.1.1) (2022.0.0)\r\n",
      "Requirement already satisfied: mkl-service in /usr/local/lib/python3.10/dist-packages (from numpy>=1.16.5->formulaic==1.1.1) (2.4.1)\r\n",
      "Requirement already satisfied: python-dateutil>=2.8.2 in /usr/local/lib/python3.10/dist-packages (from pandas>=1.0->formulaic==1.1.1) (2.8.2)\r\n",
      "Requirement already satisfied: pytz>=2020.1 in /usr/local/lib/python3.10/dist-packages (from pandas>=1.0->formulaic==1.1.1) (2024.2)\r\n",
      "Requirement already satisfied: tzdata>=2022.7 in /usr/local/lib/python3.10/dist-packages (from pandas>=1.0->formulaic==1.1.1) (2024.2)\r\n",
      "Requirement already satisfied: six>=1.5 in /usr/local/lib/python3.10/dist-packages (from python-dateutil>=2.8.2->pandas>=1.0->formulaic==1.1.1) (1.17.0)\r\n",
      "Requirement already satisfied: intel-openmp>=2024 in /usr/local/lib/python3.10/dist-packages (from mkl->numpy>=1.16.5->formulaic==1.1.1) (2024.2.0)\r\n",
      "Requirement already satisfied: tbb==2022.* in /usr/local/lib/python3.10/dist-packages (from mkl->numpy>=1.16.5->formulaic==1.1.1) (2022.0.0)\r\n",
      "Requirement already satisfied: tcmlib==1.* in /usr/local/lib/python3.10/dist-packages (from tbb==2022.*->mkl->numpy>=1.16.5->formulaic==1.1.1) (1.2.0)\r\n",
      "Requirement already satisfied: intel-cmplr-lib-rt in /usr/local/lib/python3.10/dist-packages (from mkl_umath->numpy>=1.16.5->formulaic==1.1.1) (2024.2.0)\r\n",
      "Requirement already satisfied: intel-cmplr-lib-ur==2024.2.0 in /usr/local/lib/python3.10/dist-packages (from intel-openmp>=2024->mkl->numpy>=1.16.5->formulaic==1.1.1) (2024.2.0)\r\n",
      "Installing collected packages: formulaic\r\n",
      "Successfully installed formulaic-1.1.1\r\n",
      "Processing ./lifelines-0.30.0-py3-none-any.whl\r\n",
      "Requirement already satisfied: numpy>=1.14.0 in /usr/local/lib/python3.10/dist-packages (from lifelines==0.30.0) (1.26.4)\r\n",
      "Requirement already satisfied: scipy>=1.7.0 in /usr/local/lib/python3.10/dist-packages (from lifelines==0.30.0) (1.13.1)\r\n",
      "Requirement already satisfied: pandas>=2.1 in /usr/local/lib/python3.10/dist-packages (from lifelines==0.30.0) (2.2.2)\r\n",
      "Requirement already satisfied: matplotlib>=3.0 in /usr/local/lib/python3.10/dist-packages (from lifelines==0.30.0) (3.7.5)\r\n",
      "Requirement already satisfied: autograd>=1.5 in /usr/local/lib/python3.10/dist-packages (from lifelines==0.30.0) (1.7.0)\r\n",
      "Requirement already satisfied: autograd-gamma>=0.3 in /usr/local/lib/python3.10/dist-packages (from lifelines==0.30.0) (0.5.0)\r\n",
      "Requirement already satisfied: formulaic>=0.2.2 in /usr/local/lib/python3.10/dist-packages (from lifelines==0.30.0) (1.1.1)\r\n",
      "Requirement already satisfied: interface-meta>=1.2.0 in /usr/local/lib/python3.10/dist-packages (from formulaic>=0.2.2->lifelines==0.30.0) (1.3.0)\r\n",
      "Requirement already satisfied: typing-extensions>=4.2.0 in /usr/local/lib/python3.10/dist-packages (from formulaic>=0.2.2->lifelines==0.30.0) (4.12.2)\r\n",
      "Requirement already satisfied: wrapt>=1.0 in /usr/local/lib/python3.10/dist-packages (from formulaic>=0.2.2->lifelines==0.30.0) (1.17.0)\r\n",
      "Requirement already satisfied: contourpy>=1.0.1 in /usr/local/lib/python3.10/dist-packages (from matplotlib>=3.0->lifelines==0.30.0) (1.3.1)\r\n",
      "Requirement already satisfied: cycler>=0.10 in /usr/local/lib/python3.10/dist-packages (from matplotlib>=3.0->lifelines==0.30.0) (0.12.1)\r\n",
      "Requirement already satisfied: fonttools>=4.22.0 in /usr/local/lib/python3.10/dist-packages (from matplotlib>=3.0->lifelines==0.30.0) (4.55.3)\r\n",
      "Requirement already satisfied: kiwisolver>=1.0.1 in /usr/local/lib/python3.10/dist-packages (from matplotlib>=3.0->lifelines==0.30.0) (1.4.7)\r\n",
      "Requirement already satisfied: packaging>=20.0 in /usr/local/lib/python3.10/dist-packages (from matplotlib>=3.0->lifelines==0.30.0) (24.2)\r\n",
      "Requirement already satisfied: pillow>=6.2.0 in /usr/local/lib/python3.10/dist-packages (from matplotlib>=3.0->lifelines==0.30.0) (11.0.0)\r\n",
      "Requirement already satisfied: pyparsing>=2.3.1 in /usr/local/lib/python3.10/dist-packages (from matplotlib>=3.0->lifelines==0.30.0) (3.2.0)\r\n",
      "Requirement already satisfied: python-dateutil>=2.7 in /usr/local/lib/python3.10/dist-packages (from matplotlib>=3.0->lifelines==0.30.0) (2.8.2)\r\n",
      "Requirement already satisfied: mkl_fft in /usr/local/lib/python3.10/dist-packages (from numpy>=1.14.0->lifelines==0.30.0) (1.3.8)\r\n",
      "Requirement already satisfied: mkl_random in /usr/local/lib/python3.10/dist-packages (from numpy>=1.14.0->lifelines==0.30.0) (1.2.4)\r\n",
      "Requirement already satisfied: mkl_umath in /usr/local/lib/python3.10/dist-packages (from numpy>=1.14.0->lifelines==0.30.0) (0.1.1)\r\n",
      "Requirement already satisfied: mkl in /usr/local/lib/python3.10/dist-packages (from numpy>=1.14.0->lifelines==0.30.0) (2025.0.1)\r\n",
      "Requirement already satisfied: tbb4py in /usr/local/lib/python3.10/dist-packages (from numpy>=1.14.0->lifelines==0.30.0) (2022.0.0)\r\n",
      "Requirement already satisfied: mkl-service in /usr/local/lib/python3.10/dist-packages (from numpy>=1.14.0->lifelines==0.30.0) (2.4.1)\r\n",
      "Requirement already satisfied: pytz>=2020.1 in /usr/local/lib/python3.10/dist-packages (from pandas>=2.1->lifelines==0.30.0) (2024.2)\r\n",
      "Requirement already satisfied: tzdata>=2022.7 in /usr/local/lib/python3.10/dist-packages (from pandas>=2.1->lifelines==0.30.0) (2024.2)\r\n",
      "Requirement already satisfied: six>=1.5 in /usr/local/lib/python3.10/dist-packages (from python-dateutil>=2.7->matplotlib>=3.0->lifelines==0.30.0) (1.17.0)\r\n",
      "Requirement already satisfied: intel-openmp>=2024 in /usr/local/lib/python3.10/dist-packages (from mkl->numpy>=1.14.0->lifelines==0.30.0) (2024.2.0)\r\n",
      "Requirement already satisfied: tbb==2022.* in /usr/local/lib/python3.10/dist-packages (from mkl->numpy>=1.14.0->lifelines==0.30.0) (2022.0.0)\r\n",
      "Requirement already satisfied: tcmlib==1.* in /usr/local/lib/python3.10/dist-packages (from tbb==2022.*->mkl->numpy>=1.14.0->lifelines==0.30.0) (1.2.0)\r\n",
      "Requirement already satisfied: intel-cmplr-lib-rt in /usr/local/lib/python3.10/dist-packages (from mkl_umath->numpy>=1.14.0->lifelines==0.30.0) (2024.2.0)\r\n",
      "Requirement already satisfied: intel-cmplr-lib-ur==2024.2.0 in /usr/local/lib/python3.10/dist-packages (from intel-openmp>=2024->mkl->numpy>=1.14.0->lifelines==0.30.0) (2024.2.0)\r\n",
      "Installing collected packages: lifelines\r\n",
      "Successfully installed lifelines-0.30.0\r\n"
     ]
    }
   ],
   "source": [
    "from metric import score"
   ]
  },
  {
   "cell_type": "code",
   "execution_count": 6,
   "id": "cd09e253",
   "metadata": {
    "execution": {
     "iopub.execute_input": "2025-01-22T19:29:50.422302Z",
     "iopub.status.busy": "2025-01-22T19:29:50.421740Z",
     "iopub.status.idle": "2025-01-22T19:29:50.867889Z",
     "shell.execute_reply": "2025-01-22T19:29:50.866595Z"
    },
    "papermill": {
     "duration": 0.464982,
     "end_time": "2025-01-22T19:29:50.870107",
     "exception": false,
     "start_time": "2025-01-22T19:29:50.405125",
     "status": "completed"
    },
    "tags": []
   },
   "outputs": [],
   "source": [
    "train = pd.read_csv('/kaggle/input/equity-post-HCT-survival-predictions/train.csv')\n",
    "test = pd.read_csv('/kaggle/input/equity-post-HCT-survival-predictions/test.csv')"
   ]
  },
  {
   "cell_type": "code",
   "execution_count": null,
   "id": "57c09d1c",
   "metadata": {
    "papermill": {
     "duration": 0.015856,
     "end_time": "2025-01-22T19:29:50.902607",
     "exception": false,
     "start_time": "2025-01-22T19:29:50.886751",
     "status": "completed"
    },
    "tags": []
   },
   "outputs": [],
   "source": []
  },
  {
   "cell_type": "markdown",
   "id": "02ce4e50",
   "metadata": {
    "papermill": {
     "duration": 0.015203,
     "end_time": "2025-01-22T19:29:50.933786",
     "exception": false,
     "start_time": "2025-01-22T19:29:50.918583",
     "status": "completed"
    },
    "tags": []
   },
   "source": [
    "# F# E# "
   ]
  },
  {
   "cell_type": "code",
   "execution_count": 7,
   "id": "8f4f0a82",
   "metadata": {
    "execution": {
     "iopub.execute_input": "2025-01-22T19:29:50.966858Z",
     "iopub.status.busy": "2025-01-22T19:29:50.966417Z",
     "iopub.status.idle": "2025-01-22T19:29:50.970660Z",
     "shell.execute_reply": "2025-01-22T19:29:50.969588Z"
    },
    "papermill": {
     "duration": 0.023194,
     "end_time": "2025-01-22T19:29:50.972229",
     "exception": false,
     "start_time": "2025-01-22T19:29:50.949035",
     "status": "completed"
    },
    "tags": []
   },
   "outputs": [],
   "source": [
    "import warnings\n",
    "warnings.filterwarnings(\"ignore\")"
   ]
  },
  {
   "cell_type": "code",
   "execution_count": 8,
   "id": "7359276e",
   "metadata": {
    "execution": {
     "iopub.execute_input": "2025-01-22T19:29:51.007002Z",
     "iopub.status.busy": "2025-01-22T19:29:51.006657Z",
     "iopub.status.idle": "2025-01-22T19:29:51.012348Z",
     "shell.execute_reply": "2025-01-22T19:29:51.011063Z"
    },
    "papermill": {
     "duration": 0.025406,
     "end_time": "2025-01-22T19:29:51.013928",
     "exception": false,
     "start_time": "2025-01-22T19:29:50.988522",
     "status": "completed"
    },
    "tags": []
   },
   "outputs": [
    {
     "name": "stdout",
     "output_type": "stream",
     "text": [
      "В обучающих данных 57 фичей: ['dri_score', 'psych_disturb', 'cyto_score', 'diabetes', 'hla_match_c_high', 'hla_high_res_8', 'tbi_status', 'arrhythmia', 'hla_low_res_6', 'graft_type', 'vent_hist', 'renal_issue', 'pulm_severe', 'prim_disease_hct', 'hla_high_res_6', 'cmv_status', 'hla_high_res_10', 'hla_match_dqb1_high', 'tce_imm_match', 'hla_nmdp_6', 'hla_match_c_low', 'rituximab', 'hla_match_drb1_low', 'hla_match_dqb1_low', 'prod_type', 'cyto_score_detail', 'conditioning_intensity', 'ethnicity', 'year_hct', 'obesity', 'mrd_hct', 'in_vivo_tcd', 'tce_match', 'hla_match_a_high', 'hepatic_severe', 'donor_age', 'prior_tumor', 'hla_match_b_low', 'peptic_ulcer', 'age_at_hct', 'hla_match_a_low', 'gvhd_proph', 'rheum_issue', 'sex_match', 'hla_match_b_high', 'race_group', 'comorbidity_score', 'karnofsky_score', 'hepatic_mild', 'tce_div_match', 'donor_related', 'melphalan_dose', 'hla_low_res_8', 'cardiac', 'hla_match_drb1_high', 'pulm_moderate', 'hla_low_res_10']\n"
     ]
    }
   ],
   "source": [
    "RMV = [\"ID\",\"efs\",\"efs_time\"]\n",
    "FEATURES = [c for c in train.columns if not c in RMV]\n",
    "print(f\"В обучающих данных {len(FEATURES)} фичей: {FEATURES}\")"
   ]
  },
  {
   "cell_type": "code",
   "execution_count": 9,
   "id": "b6896ad4",
   "metadata": {
    "execution": {
     "iopub.execute_input": "2025-01-22T19:29:51.048437Z",
     "iopub.status.busy": "2025-01-22T19:29:51.047992Z",
     "iopub.status.idle": "2025-01-22T19:29:51.133738Z",
     "shell.execute_reply": "2025-01-22T19:29:51.132823Z"
    },
    "papermill": {
     "duration": 0.105098,
     "end_time": "2025-01-22T19:29:51.135665",
     "exception": false,
     "start_time": "2025-01-22T19:29:51.030567",
     "status": "completed"
    },
    "tags": []
   },
   "outputs": [],
   "source": [
    "#filling hla_nmdp_6\n",
    "train[\"hla_nmdp_6\"].fillna(train[[\"hla_match_a_low\", \"hla_match_b_low\", \"hla_match_drb1_high\"]].sum(axis=1), inplace=True)\n",
    "test[\"hla_nmdp_6\"].fillna(test[[\"hla_match_a_low\", \"hla_match_b_low\", \"hla_match_drb1_high\"]].sum(axis=1), inplace=True)  \n",
    "\n",
    "#filling hla_low_res_6\n",
    "train[\"hla_low_res_6\"].fillna(train[[\"hla_match_a_low\", \"hla_match_b_low\", \"hla_match_drb1_low\"]].sum(axis=1), inplace=True)\n",
    "test[\"hla_low_res_6\"].fillna(test[[\"hla_match_a_low\", \"hla_match_b_low\", \"hla_match_drb1_low\"]].sum(axis=1), inplace=True)  \n",
    "\n",
    "#filling hla_high_res_6\n",
    "train[\"hla_high_res_6\"].fillna(train[[\"hla_match_a_high\", \"hla_match_b_high\", \"hla_match_drb1_high\"]].sum(axis=1), inplace=True)\n",
    "test[\"hla_high_res_6\"].fillna(test[[\"hla_match_a_high\", \"hla_match_b_high\", \"hla_match_drb1_high\"]].sum(axis=1), inplace=True)  \n",
    "\n",
    "#filling hla_low_res_8\n",
    "train['hla_low_res_8'].fillna(train[[\"hla_match_a_low\", \"hla_match_b_low\", \"hla_match_c_low\", \"hla_match_drb1_low\"]].sum(axis=1), inplace=True)\n",
    "test['hla_low_res_8'].fillna(test[[\"hla_match_a_low\", \"hla_match_b_low\", \"hla_match_c_low\", \"hla_match_drb1_low\"]].sum(axis=1), inplace=True)\n",
    "\n",
    "#filling hla_high_res_8\n",
    "train[\"hla_high_res_8\"].fillna(train[[\"hla_match_a_high\", \"hla_match_b_high\", \"hla_match_c_high\", \"hla_match_drb1_high\"]].sum(axis=1), inplace=True)\n",
    "test[\"hla_high_res_8\"].fillna(test[[\"hla_match_a_high\", \"hla_match_b_high\", \"hla_match_c_high\", \"hla_match_drb1_high\"]].sum(axis=1), inplace=True)\n",
    "\n",
    "#filling hla_low_res_10\n",
    "train[\"hla_low_res_10\"].fillna(train[[\"hla_match_a_low\", \"hla_match_b_low\", \"hla_match_c_low\", \"hla_match_drb1_low\", \"hla_match_dqb1_low\"]].sum(axis=1), inplace=True)\n",
    "test[\"hla_low_res_10\"].fillna(test[[\"hla_match_a_low\", \"hla_match_b_low\", \"hla_match_c_low\", \"hla_match_drb1_low\", \"hla_match_dqb1_low\"]].sum(axis=1), inplace=True)\n",
    "\n",
    "#filling hla_high_res_10\n",
    "train[\"hla_high_res_10\"].fillna(train[[\"hla_match_a_high\", \"hla_match_b_high\", \"hla_match_c_high\", \"hla_match_drb1_high\", \"hla_match_dqb1_high\"]].sum(axis=1), inplace=True)\n",
    "test[\"hla_high_res_10\"].fillna(test[[\"hla_match_a_high\", \"hla_match_b_high\", \"hla_match_c_high\", \"hla_match_drb1_high\", \"hla_match_dqb1_high\"]].sum(axis=1), inplace=True)\n"
   ]
  },
  {
   "cell_type": "code",
   "execution_count": 10,
   "id": "36cb6bd2",
   "metadata": {
    "execution": {
     "iopub.execute_input": "2025-01-22T19:29:51.168607Z",
     "iopub.status.busy": "2025-01-22T19:29:51.168243Z",
     "iopub.status.idle": "2025-01-22T19:29:51.281066Z",
     "shell.execute_reply": "2025-01-22T19:29:51.279751Z"
    },
    "papermill": {
     "duration": 0.130993,
     "end_time": "2025-01-22T19:29:51.282926",
     "exception": false,
     "start_time": "2025-01-22T19:29:51.151933",
     "status": "completed"
    },
    "tags": []
   },
   "outputs": [
    {
     "name": "stdout",
     "output_type": "stream",
     "text": [
      " В общем в данных, 35 КАТЕГОРИАЛЬНЫХ ФИЧЕЙ: ['dri_score', 'psych_disturb', 'cyto_score', 'diabetes', 'tbi_status', 'arrhythmia', 'graft_type', 'vent_hist', 'renal_issue', 'pulm_severe', 'prim_disease_hct', 'cmv_status', 'tce_imm_match', 'rituximab', 'prod_type', 'cyto_score_detail', 'conditioning_intensity', 'ethnicity', 'obesity', 'mrd_hct', 'in_vivo_tcd', 'tce_match', 'hepatic_severe', 'prior_tumor', 'peptic_ulcer', 'gvhd_proph', 'rheum_issue', 'sex_match', 'race_group', 'hepatic_mild', 'tce_div_match', 'donor_related', 'melphalan_dose', 'cardiac', 'pulm_moderate']\n"
     ]
    }
   ],
   "source": [
    "CATS = []\n",
    "for c in FEATURES:\n",
    "    if train[c].dtype==\"object\":\n",
    "        CATS.append(c)\n",
    "        train[c] = train[c].fillna(\"NAN\")\n",
    "        test[c] = test[c].fillna(\"NAN\")\n",
    "    else:\n",
    "        train[c] = train[c].fillna(-1)\n",
    "        test[c] = test[c].fillna(-1) \n",
    "print(f\" В общем в данных, {len(CATS)} КАТЕГОРИАЛЬНЫХ ФИЧЕЙ: {CATS}\")"
   ]
  },
  {
   "cell_type": "code",
   "execution_count": 11,
   "id": "4585ab12",
   "metadata": {
    "execution": {
     "iopub.execute_input": "2025-01-22T19:29:51.315389Z",
     "iopub.status.busy": "2025-01-22T19:29:51.315014Z",
     "iopub.status.idle": "2025-01-22T19:29:51.468553Z",
     "shell.execute_reply": "2025-01-22T19:29:51.467366Z"
    },
    "papermill": {
     "duration": 0.17153,
     "end_time": "2025-01-22T19:29:51.470232",
     "exception": false,
     "start_time": "2025-01-22T19:29:51.298702",
     "status": "completed"
    },
    "tags": []
   },
   "outputs": [
    {
     "name": "stdout",
     "output_type": "stream",
     "text": [
      "We LABEL ENCODE the CATEGORICAL FEATURES: dri_score, psych_disturb, cyto_score, diabetes, tbi_status, arrhythmia, graft_type, vent_hist, renal_issue, pulm_severe, prim_disease_hct, cmv_status, tce_imm_match, rituximab, prod_type, cyto_score_detail, conditioning_intensity, ethnicity, obesity, mrd_hct, in_vivo_tcd, tce_match, hepatic_severe, prior_tumor, peptic_ulcer, gvhd_proph, rheum_issue, sex_match, race_group, hepatic_mild, tce_div_match, donor_related, melphalan_dose, cardiac, pulm_moderate, "
     ]
    }
   ],
   "source": [
    "combined = pd.concat([train,test],axis=0,ignore_index=True)\n",
    "#print(\"Combined data shape:\", combined.shape )\n",
    "\n",
    "# LABEL ENCODE CATEGORICAL FEATURES\n",
    "print(\"We LABEL ENCODE the CATEGORICAL FEATURES: \",end=\"\")\n",
    "for c in FEATURES:\n",
    "\n",
    "    # LABEL ENCODE CATEGORICAL AND CONVERT TO INT32 CATEGORY\n",
    "    if c in CATS:\n",
    "        print(f\"{c}, \",end=\"\")\n",
    "        combined[c],_ = combined[c].factorize()\n",
    "        combined[c] -= combined[c].min()\n",
    "        combined[c] = combined[c].astype(\"int32\")\n",
    "        combined[c] = combined[c].astype(\"category\")\n",
    "    \n",
    "train = combined.iloc[:len(train)].copy()\n",
    "test = combined.iloc[len(train):].reset_index(drop=True).copy()"
   ]
  },
  {
   "cell_type": "markdown",
   "id": "e123f319",
   "metadata": {
    "papermill": {
     "duration": 0.015876,
     "end_time": "2025-01-22T19:29:51.502897",
     "exception": false,
     "start_time": "2025-01-22T19:29:51.487021",
     "status": "completed"
    },
    "tags": []
   },
   "source": [
    "Kaplan Meier target¶"
   ]
  },
  {
   "cell_type": "code",
   "execution_count": 12,
   "id": "35138191",
   "metadata": {
    "execution": {
     "iopub.execute_input": "2025-01-22T19:29:51.538506Z",
     "iopub.status.busy": "2025-01-22T19:29:51.538115Z",
     "iopub.status.idle": "2025-01-22T19:29:51.618664Z",
     "shell.execute_reply": "2025-01-22T19:29:51.617749Z"
    },
    "papermill": {
     "duration": 0.100257,
     "end_time": "2025-01-22T19:29:51.620552",
     "exception": false,
     "start_time": "2025-01-22T19:29:51.520295",
     "status": "completed"
    },
    "tags": []
   },
   "outputs": [],
   "source": [
    "from lifelines import KaplanMeierFitter\n",
    "def transform_survival_probability_kmf(df, time_col='efs_time', event_col='efs'):\n",
    "    kmf = KaplanMeierFitter()\n",
    "    kmf.fit(df[time_col], df[event_col])\n",
    "    y = kmf.survival_function_at_times(df[time_col]).values\n",
    "    return y\n",
    "train[\"KaplanMeier\"] = transform_survival_probability_kmf(train, time_col='efs_time', event_col='efs')"
   ]
  },
  {
   "cell_type": "code",
   "execution_count": 13,
   "id": "22b81230",
   "metadata": {
    "execution": {
     "iopub.execute_input": "2025-01-22T19:29:51.654204Z",
     "iopub.status.busy": "2025-01-22T19:29:51.653864Z",
     "iopub.status.idle": "2025-01-22T19:29:52.274201Z",
     "shell.execute_reply": "2025-01-22T19:29:52.273237Z"
    },
    "papermill": {
     "duration": 0.63937,
     "end_time": "2025-01-22T19:29:52.275961",
     "exception": false,
     "start_time": "2025-01-22T19:29:51.636591",
     "status": "completed"
    },
    "tags": []
   },
   "outputs": [
    {
     "data": {
      "image/png": "[encoded data removed]",
      "text/plain": [
       "<Figure size 640x480 with 1 Axes>"
      ]
     },
     "metadata": {},
     "output_type": "display_data"
    }
   ],
   "source": [
    "plt.hist(train.loc[train.efs==1,\"KaplanMeier\"],bins=100,label=\"efs=1, Yes Event\")\n",
    "plt.hist(train.loc[train.efs==0,\"KaplanMeier\"],bins=100,label=\"efs=0, Maybe Event\")\n",
    "plt.xlabel(\"Transformed Target y\")\n",
    "plt.ylabel(\"Density\")\n",
    "plt.title(\"KaplanMeier Transformed Target y using both efs and efs_time.\")\n",
    "plt.legend()\n",
    "plt.show()"
   ]
  },
  {
   "cell_type": "markdown",
   "id": "9f1b4410",
   "metadata": {
    "papermill": {
     "duration": 0.015876,
     "end_time": "2025-01-22T19:29:52.308569",
     "exception": false,
     "start_time": "2025-01-22T19:29:52.292693",
     "status": "completed"
    },
    "tags": []
   },
   "source": [
    "NelsonAalen target¶\n"
   ]
  },
  {
   "cell_type": "code",
   "execution_count": 14,
   "id": "a0f5787a",
   "metadata": {
    "execution": {
     "iopub.execute_input": "2025-01-22T19:29:52.344134Z",
     "iopub.status.busy": "2025-01-22T19:29:52.343775Z",
     "iopub.status.idle": "2025-01-22T19:29:52.391941Z",
     "shell.execute_reply": "2025-01-22T19:29:52.390810Z"
    },
    "papermill": {
     "duration": 0.06885,
     "end_time": "2025-01-22T19:29:52.394228",
     "exception": false,
     "start_time": "2025-01-22T19:29:52.325378",
     "status": "completed"
    },
    "tags": []
   },
   "outputs": [],
   "source": [
    "from lifelines import NelsonAalenFitter\n",
    "def transform_survival_probability_naf(df, time_col='efs_time', event_col='efs'):\n",
    "    naf = NelsonAalenFitter()\n",
    "    naf.fit(durations =df[time_col], event_observed=df[event_col])\n",
    "    y = -naf.cumulative_hazard_at_times(df[time_col]).values\n",
    "    return y\n",
    "train[\"NelsonAalen\"] = transform_survival_probability_naf(train, time_col='efs_time', event_col='efs')"
   ]
  },
  {
   "cell_type": "code",
   "execution_count": 15,
   "id": "517fbbef",
   "metadata": {
    "execution": {
     "iopub.execute_input": "2025-01-22T19:29:52.428633Z",
     "iopub.status.busy": "2025-01-22T19:29:52.428211Z",
     "iopub.status.idle": "2025-01-22T19:29:52.978245Z",
     "shell.execute_reply": "2025-01-22T19:29:52.977285Z"
    },
    "papermill": {
     "duration": 0.569108,
     "end_time": "2025-01-22T19:29:52.980002",
     "exception": false,
     "start_time": "2025-01-22T19:29:52.410894",
     "status": "completed"
    },
    "tags": []
   },
   "outputs": [
    {
     "data": {
      "image/png": "[encoded data removed]",
      "text/plain": [
       "<Figure size 640x480 with 1 Axes>"
      ]
     },
     "metadata": {},
     "output_type": "display_data"
    }
   ],
   "source": [
    "plt.hist(train.loc[train.efs==1,\"NelsonAalen\"],bins=100,label=\"efs=1, Yes Event\")\n",
    "plt.hist(train.loc[train.efs==0,\"NelsonAalen\"],bins=100,label=\"efs=0, Maybe Event\")\n",
    "plt.xlabel(\"Transformed Target\")\n",
    "plt.ylabel(\"Density\")\n",
    "plt.title(\"NelsonAalen Transformed Target y using both efs and efs_time.\")\n",
    "plt.legend()\n",
    "plt.show()"
   ]
  },
  {
   "cell_type": "markdown",
   "id": "03c7da9c",
   "metadata": {
    "papermill": {
     "duration": 0.016815,
     "end_time": "2025-01-22T19:29:53.014191",
     "exception": false,
     "start_time": "2025-01-22T19:29:52.997376",
     "status": "completed"
    },
    "tags": []
   },
   "source": [
    "# COX target\n"
   ]
  },
  {
   "cell_type": "code",
   "execution_count": 16,
   "id": "08b5681f",
   "metadata": {
    "execution": {
     "iopub.execute_input": "2025-01-22T19:29:53.055447Z",
     "iopub.status.busy": "2025-01-22T19:29:53.055062Z",
     "iopub.status.idle": "2025-01-22T19:30:32.404886Z",
     "shell.execute_reply": "2025-01-22T19:30:32.403654Z"
    },
    "papermill": {
     "duration": 39.374638,
     "end_time": "2025-01-22T19:30:32.406937",
     "exception": false,
     "start_time": "2025-01-22T19:29:53.032299",
     "status": "completed"
    },
    "tags": []
   },
   "outputs": [],
   "source": [
    "from lifelines import CoxPHFitter\n",
    "def transform_survival_probability_cox(df, time_col='efs_time', event_col='efs'):\n",
    "    cph = CoxPHFitter()\n",
    "    cph.fit(df=df, duration_col=time_col, event_col=event_col)\n",
    "    y = []\n",
    "    for a in train['efs_time']:\n",
    "        y.append(cph.baseline_survival_.loc[a, :].item())\n",
    "    return y\n",
    "train[\"CoxPH\"] = transform_survival_probability_cox(train, time_col='efs_time', event_col='efs')"
   ]
  },
  {
   "cell_type": "code",
   "execution_count": 17,
   "id": "90a4a309",
   "metadata": {
    "execution": {
     "iopub.execute_input": "2025-01-22T19:30:32.443052Z",
     "iopub.status.busy": "2025-01-22T19:30:32.442695Z",
     "iopub.status.idle": "2025-01-22T19:30:33.078448Z",
     "shell.execute_reply": "2025-01-22T19:30:33.077384Z"
    },
    "papermill": {
     "duration": 0.655895,
     "end_time": "2025-01-22T19:30:33.080277",
     "exception": false,
     "start_time": "2025-01-22T19:30:32.424382",
     "status": "completed"
    },
    "tags": []
   },
   "outputs": [
    {
     "data": {
      "image/png": "[encoded data removed]",
      "text/plain": [
       "<Figure size 640x480 with 1 Axes>"
      ]
     },
     "metadata": {},
     "output_type": "display_data"
    }
   ],
   "source": [
    "plt.hist(train.loc[train.efs==1,\"CoxPH\"],bins=100,label=\"efs=1, Yes Event\")\n",
    "plt.hist(train.loc[train.efs==0,\"CoxPH\"],bins=100,label=\"efs=0, Maybe Event\")\n",
    "plt.xlabel(\"Transformed Target\")\n",
    "plt.ylabel(\"Density\")\n",
    "plt.title(\"CoxPH Transformed Target y using both efs and efs_time.\")\n",
    "plt.legend()\n",
    "plt.show()"
   ]
  },
  {
   "cell_type": "markdown",
   "id": "b8b7a30f",
   "metadata": {
    "papermill": {
     "duration": 0.017578,
     "end_time": "2025-01-22T19:30:33.116561",
     "exception": false,
     "start_time": "2025-01-22T19:30:33.098983",
     "status": "completed"
    },
    "tags": []
   },
   "source": [
    "# Params"
   ]
  },
  {
   "cell_type": "code",
   "execution_count": 18,
   "id": "aeca1f40",
   "metadata": {
    "execution": {
     "iopub.execute_input": "2025-01-22T19:30:33.153701Z",
     "iopub.status.busy": "2025-01-22T19:30:33.153346Z",
     "iopub.status.idle": "2025-01-22T19:30:33.159247Z",
     "shell.execute_reply": "2025-01-22T19:30:33.158239Z"
    },
    "papermill": {
     "duration": 0.026543,
     "end_time": "2025-01-22T19:30:33.161026",
     "exception": false,
     "start_time": "2025-01-22T19:30:33.134483",
     "status": "completed"
    },
    "tags": []
   },
   "outputs": [],
   "source": [
    "param_xgb = {\n",
    "    'device': 'cpu',\n",
    "    'enable_categorical': True, \n",
    "    \"objective\": \"reg:squarederror\",\n",
    "    \"n_estimators\": 6000,\n",
    "    \"verbosity\": 0,\n",
    "    'learning_rate': 0.009,\n",
    "    'max_depth': 4,\n",
    "    'subsample': 0.91,\n",
    "    'colsample_bytree': 0.24,\n",
    "    'min_child_weight': 5,\n",
    "    'reg_lambda': 13\n",
    "}\n",
    "\n",
    "param_cox = {\n",
    "    'device': 'cpu',\n",
    "    'enable_categorical': True, \n",
    "    \"objective\": \"survival:cox\",\n",
    "    \"n_estimators\": 6000,\n",
    "    \"verbosity\": 0,\n",
    "    'learning_rate': 0.038,\n",
    "    'max_depth': 4,\n",
    "    'subsample': 0.84,\n",
    "    'colsample_bytree': 0.27,\n",
    "    'min_child_weight': 16,\n",
    "    'reg_lambda': 15\n",
    "}\n",
    "\n",
    "param_lgb = {\n",
    "        'n_estimators': 2100,\n",
    "        'learning_rate': 0.013,\n",
    "        'max_depth': 10,\n",
    "        'subsample': 0.87,\n",
    "        'colsample_bytree': 0.12,\n",
    "        'min_data_in_leaf': 17,\n",
    "        'device': 'cpu',\n",
    "        'objective': \"regression\",\n",
    "        'metric': \"rmse\",\n",
    "        'verbosity': -1,\n",
    "        'bagging_freq': 1,\n",
    "}"
   ]
  },
  {
   "cell_type": "markdown",
   "id": "e961c9d3",
   "metadata": {
    "papermill": {
     "duration": 0.017491,
     "end_time": "2025-01-22T19:30:33.196695",
     "exception": false,
     "start_time": "2025-01-22T19:30:33.179204",
     "status": "completed"
    },
    "tags": []
   },
   "source": [
    "# Evaluation func and num of Folds"
   ]
  },
  {
   "cell_type": "code",
   "execution_count": 19,
   "id": "c07f2f8d",
   "metadata": {
    "execution": {
     "iopub.execute_input": "2025-01-22T19:30:33.233593Z",
     "iopub.status.busy": "2025-01-22T19:30:33.233219Z",
     "iopub.status.idle": "2025-01-22T19:30:33.237890Z",
     "shell.execute_reply": "2025-01-22T19:30:33.236937Z"
    },
    "papermill": {
     "duration": 0.024991,
     "end_time": "2025-01-22T19:30:33.239596",
     "exception": false,
     "start_time": "2025-01-22T19:30:33.214605",
     "status": "completed"
    },
    "tags": []
   },
   "outputs": [],
   "source": [
    "# from metric import score\n",
    "def res(df, preds):\n",
    "    y_true = df[[\"ID\",\"efs\",\"efs_time\",\"race_group\"]].copy()\n",
    "    y_pred = df[[\"ID\"]].copy()\n",
    "    y_pred[\"prediction\"] = preds\n",
    "    return score(y_true.copy(), y_pred.copy(), \"ID\")"
   ]
  },
  {
   "cell_type": "code",
   "execution_count": 20,
   "id": "e24a1a98",
   "metadata": {
    "execution": {
     "iopub.execute_input": "2025-01-22T19:30:33.277304Z",
     "iopub.status.busy": "2025-01-22T19:30:33.276939Z",
     "iopub.status.idle": "2025-01-22T19:30:33.543196Z",
     "shell.execute_reply": "2025-01-22T19:30:33.542005Z"
    },
    "papermill": {
     "duration": 0.287566,
     "end_time": "2025-01-22T19:30:33.545274",
     "exception": false,
     "start_time": "2025-01-22T19:30:33.257708",
     "status": "completed"
    },
    "tags": []
   },
   "outputs": [],
   "source": [
    "from sklearn.model_selection import KFold\n",
    "FOLDS = 5"
   ]
  },
  {
   "cell_type": "code",
   "execution_count": 21,
   "id": "00927255",
   "metadata": {
    "execution": {
     "iopub.execute_input": "2025-01-22T19:30:33.582805Z",
     "iopub.status.busy": "2025-01-22T19:30:33.582461Z",
     "iopub.status.idle": "2025-01-22T19:30:33.840389Z",
     "shell.execute_reply": "2025-01-22T19:30:33.839135Z"
    },
    "papermill": {
     "duration": 0.278722,
     "end_time": "2025-01-22T19:30:33.842167",
     "exception": false,
     "start_time": "2025-01-22T19:30:33.563445",
     "status": "completed"
    },
    "tags": []
   },
   "outputs": [
    {
     "name": "stdout",
     "output_type": "stream",
     "text": [
      "Using XGBoost version 2.0.3\n"
     ]
    }
   ],
   "source": [
    "from xgboost import XGBRegressor, XGBClassifier\n",
    "import xgboost as xgb\n",
    "print(\"Using XGBoost version\",xgb.__version__)"
   ]
  },
  {
   "cell_type": "code",
   "execution_count": 22,
   "id": "43fc43f8",
   "metadata": {
    "execution": {
     "iopub.execute_input": "2025-01-22T19:30:33.880532Z",
     "iopub.status.busy": "2025-01-22T19:30:33.880114Z",
     "iopub.status.idle": "2025-01-22T19:30:36.750546Z",
     "shell.execute_reply": "2025-01-22T19:30:36.749456Z"
    },
    "papermill": {
     "duration": 2.891338,
     "end_time": "2025-01-22T19:30:36.752394",
     "exception": false,
     "start_time": "2025-01-22T19:30:33.861056",
     "status": "completed"
    },
    "tags": []
   },
   "outputs": [
    {
     "name": "stdout",
     "output_type": "stream",
     "text": [
      "Using LightGBM version 4.5.0\n"
     ]
    }
   ],
   "source": [
    "from lightgbm import LGBMRegressor\n",
    "import lightgbm as lgb\n",
    "print(\"Using LightGBM version\",lgb.__version__)"
   ]
  },
  {
   "cell_type": "code",
   "execution_count": null,
   "id": "8ed5380e",
   "metadata": {
    "papermill": {
     "duration": 0.017939,
     "end_time": "2025-01-22T19:30:36.788764",
     "exception": false,
     "start_time": "2025-01-22T19:30:36.770825",
     "status": "completed"
    },
    "tags": []
   },
   "outputs": [],
   "source": []
  },
  {
   "cell_type": "markdown",
   "id": "9c897c68",
   "metadata": {
    "papermill": {
     "duration": 0.017793,
     "end_time": "2025-01-22T19:30:36.825402",
     "exception": false,
     "start_time": "2025-01-22T19:30:36.807609",
     "status": "completed"
    },
    "tags": []
   },
   "source": [
    "# XGBoost KaplanMeier"
   ]
  },
  {
   "cell_type": "code",
   "execution_count": 23,
   "id": "3ffefac5",
   "metadata": {
    "execution": {
     "iopub.execute_input": "2025-01-22T19:30:36.863355Z",
     "iopub.status.busy": "2025-01-22T19:30:36.862623Z",
     "iopub.status.idle": "2025-01-22T19:33:41.645533Z",
     "shell.execute_reply": "2025-01-22T19:33:41.644326Z"
    },
    "papermill": {
     "duration": 184.823781,
     "end_time": "2025-01-22T19:33:41.667150",
     "exception": false,
     "start_time": "2025-01-22T19:30:36.843369",
     "status": "completed"
    },
    "tags": []
   },
   "outputs": [
    {
     "name": "stdout",
     "output_type": "stream",
     "text": [
      "#########################\n",
      "### Fold 1\n",
      "#########################\n",
      "#########################\n",
      "### Fold 2\n",
      "#########################\n",
      "#########################\n",
      "### Fold 3\n",
      "#########################\n",
      "#########################\n",
      "### Fold 4\n",
      "#########################\n",
      "#########################\n",
      "### Fold 5\n",
      "#########################\n",
      "CPU times: user 11min 56s, sys: 2.83 s, total: 11min 59s\n",
      "Wall time: 3min 4s\n"
     ]
    }
   ],
   "source": [
    "%%time\n",
    "kf = KFold(n_splits=FOLDS, shuffle=True, random_state=42)\n",
    "    \n",
    "oof_xgb_km = np.zeros(len(train))\n",
    "pred_xgb_km = np.zeros(len(test))\n",
    "\n",
    "for i, (train_index, test_index) in enumerate(kf.split(train)):\n",
    "\n",
    "    print(\"#\"*25)\n",
    "    print(f\"### Fold {i+1}\")\n",
    "    print(\"#\"*25)\n",
    "    \n",
    "    X_train = train.loc[train_index,FEATURES].copy()\n",
    "    y_train = train.loc[train_index,\"KaplanMeier\"]\n",
    "    X_val = train.loc[test_index,FEATURES].copy()\n",
    "    y_val = train.loc[test_index,\"KaplanMeier\"]\n",
    "    X_test = test[FEATURES].copy()\n",
    "    \n",
    "    model_xgb_km = XGBRegressor(**param_xgb)\n",
    "    model_xgb_km.fit(\n",
    "        X_train, y_train,\n",
    "        eval_set=[(X_val, y_val)],  \n",
    "        verbose=0,\n",
    "        early_stopping_rounds=300,\n",
    "    )\n",
    "\n",
    "    # INFER OOF\n",
    "    oof_xgb_km[test_index] = model_xgb_km.predict(X_val)\n",
    "    # INFER TEST\n",
    "    pred_xgb_km += model_xgb_km.predict(X_test)\n",
    "\n",
    "# COMPUTE AVERAGE TEST PREDS\n",
    "pred_xgb_km /= FOLDS"
   ]
  },
  {
   "cell_type": "code",
   "execution_count": 24,
   "id": "03fa9ce9",
   "metadata": {
    "execution": {
     "iopub.execute_input": "2025-01-22T19:33:41.705285Z",
     "iopub.status.busy": "2025-01-22T19:33:41.704922Z",
     "iopub.status.idle": "2025-01-22T19:33:42.099229Z",
     "shell.execute_reply": "2025-01-22T19:33:42.098124Z"
    },
    "papermill": {
     "duration": 0.415429,
     "end_time": "2025-01-22T19:33:42.101010",
     "exception": false,
     "start_time": "2025-01-22T19:33:41.685581",
     "status": "completed"
    },
    "tags": []
   },
   "outputs": [
    {
     "name": "stdout",
     "output_type": "stream",
     "text": [
      "CV for XGBoost KaplanMeier 0.6743965106178352\n"
     ]
    }
   ],
   "source": [
    "print('CV for XGBoost KaplanMeier', res(train, oof_xgb_km))\n"
   ]
  },
  {
   "cell_type": "markdown",
   "id": "e73f74cf",
   "metadata": {
    "papermill": {
     "duration": 0.018737,
     "end_time": "2025-01-22T19:33:42.138411",
     "exception": false,
     "start_time": "2025-01-22T19:33:42.119674",
     "status": "completed"
    },
    "tags": []
   },
   "source": [
    "# XGBoost NelsonAalen"
   ]
  },
  {
   "cell_type": "code",
   "execution_count": 25,
   "id": "e2d31b87",
   "metadata": {
    "execution": {
     "iopub.execute_input": "2025-01-22T19:33:42.176733Z",
     "iopub.status.busy": "2025-01-22T19:33:42.176357Z",
     "iopub.status.idle": "2025-01-22T19:36:57.060493Z",
     "shell.execute_reply": "2025-01-22T19:36:57.057784Z"
    },
    "papermill": {
     "duration": 194.925695,
     "end_time": "2025-01-22T19:36:57.082368",
     "exception": false,
     "start_time": "2025-01-22T19:33:42.156673",
     "status": "completed"
    },
    "tags": []
   },
   "outputs": [
    {
     "name": "stdout",
     "output_type": "stream",
     "text": [
      "#########################\n",
      "### Fold 1\n",
      "#########################\n",
      "#########################\n",
      "### Fold 2\n",
      "#########################\n",
      "#########################\n",
      "### Fold 3\n",
      "#########################\n",
      "#########################\n",
      "### Fold 4\n",
      "#########################\n",
      "#########################\n",
      "### Fold 5\n",
      "#########################\n",
      "CPU times: user 12min 36s, sys: 3 s, total: 12min 39s\n",
      "Wall time: 3min 14s\n"
     ]
    }
   ],
   "source": [
    "%%time\n",
    "kf = KFold(n_splits=FOLDS, shuffle=True, random_state=42)\n",
    "    \n",
    "oof_xgb_na = np.zeros(len(train))\n",
    "pred_xgb_na = np.zeros(len(test))\n",
    "\n",
    "for i, (train_index, test_index) in enumerate(kf.split(train)):\n",
    "\n",
    "    print(\"#\"*25)\n",
    "    print(f\"### Fold {i+1}\")\n",
    "    print(\"#\"*25)\n",
    "    \n",
    "    X_train = train.loc[train_index,FEATURES].copy()\n",
    "    y_train = train.loc[train_index,\"NelsonAalen\"]\n",
    "    X_val = train.loc[test_index,FEATURES].copy()\n",
    "    y_val = train.loc[test_index,\"NelsonAalen\"]\n",
    "    X_test = test[FEATURES].copy()\n",
    "    \n",
    "    model_xgb_na = XGBRegressor(**param_xgb)\n",
    "    \n",
    "    model_xgb_na.fit(\n",
    "        X_train, y_train,\n",
    "        eval_set=[(X_val, y_val)],  \n",
    "        verbose=0,\n",
    "        early_stopping_rounds=300,\n",
    "    )\n",
    "\n",
    "    # INFER OOF\n",
    "    oof_xgb_na[test_index] = model_xgb_na.predict(X_val)\n",
    "    # INFER TEST\n",
    "    pred_xgb_na += model_xgb_na.predict(X_test)\n",
    "\n",
    "# COMPUTE AVERAGE TEST PREDS\n",
    "pred_xgb_na /= FOLDS"
   ]
  },
  {
   "cell_type": "code",
   "execution_count": 26,
   "id": "000ef3b4",
   "metadata": {
    "execution": {
     "iopub.execute_input": "2025-01-22T19:36:57.122588Z",
     "iopub.status.busy": "2025-01-22T19:36:57.122185Z",
     "iopub.status.idle": "2025-01-22T19:36:57.519065Z",
     "shell.execute_reply": "2025-01-22T19:36:57.517958Z"
    },
    "papermill": {
     "duration": 0.418616,
     "end_time": "2025-01-22T19:36:57.520839",
     "exception": false,
     "start_time": "2025-01-22T19:36:57.102223",
     "status": "completed"
    },
    "tags": []
   },
   "outputs": [
    {
     "name": "stdout",
     "output_type": "stream",
     "text": [
      "CV for XGBoost NelsonAalen 0.6769502021393393\n"
     ]
    }
   ],
   "source": [
    "print('CV for XGBoost NelsonAalen', res(train, oof_xgb_na))\n"
   ]
  },
  {
   "cell_type": "markdown",
   "id": "1d762388",
   "metadata": {
    "papermill": {
     "duration": 0.018973,
     "end_time": "2025-01-22T19:36:57.559053",
     "exception": false,
     "start_time": "2025-01-22T19:36:57.540080",
     "status": "completed"
    },
    "tags": []
   },
   "source": [
    "# XGBoost CoxPH"
   ]
  },
  {
   "cell_type": "markdown",
   "id": "608e899a",
   "metadata": {
    "papermill": {
     "duration": 0.02572,
     "end_time": "2025-01-22T19:36:57.603809",
     "exception": false,
     "start_time": "2025-01-22T19:36:57.578089",
     "status": "completed"
    },
    "tags": []
   },
   "source": []
  },
  {
   "cell_type": "code",
   "execution_count": 27,
   "id": "2cc035a6",
   "metadata": {
    "execution": {
     "iopub.execute_input": "2025-01-22T19:36:57.659660Z",
     "iopub.status.busy": "2025-01-22T19:36:57.659116Z",
     "iopub.status.idle": "2025-01-22T19:40:07.536292Z",
     "shell.execute_reply": "2025-01-22T19:40:07.535381Z"
    },
    "papermill": {
     "duration": 189.924323,
     "end_time": "2025-01-22T19:40:07.561064",
     "exception": false,
     "start_time": "2025-01-22T19:36:57.636741",
     "status": "completed"
    },
    "tags": []
   },
   "outputs": [
    {
     "name": "stdout",
     "output_type": "stream",
     "text": [
      "#########################\n",
      "### Fold 1\n",
      "#########################\n",
      "#########################\n",
      "### Fold 2\n",
      "#########################\n",
      "#########################\n",
      "### Fold 3\n",
      "#########################\n",
      "#########################\n",
      "### Fold 4\n",
      "#########################\n",
      "#########################\n",
      "### Fold 5\n",
      "#########################\n",
      "CPU times: user 12min 16s, sys: 2.91 s, total: 12min 19s\n",
      "Wall time: 3min 9s\n"
     ]
    }
   ],
   "source": [
    "%%time\n",
    "kf = KFold(n_splits=FOLDS, shuffle=True, random_state=42)\n",
    "    \n",
    "oof_xgb_coxph = np.zeros(len(train))\n",
    "pred_xgb_coxph = np.zeros(len(test))\n",
    "\n",
    "for i, (train_index, test_index) in enumerate(kf.split(train)):\n",
    "\n",
    "    print(\"#\"*25)\n",
    "    print(f\"### Fold {i+1}\")\n",
    "    print(\"#\"*25)\n",
    "    \n",
    "    X_train = train.loc[train_index,FEATURES].copy()\n",
    "    y_train = train.loc[train_index,\"CoxPH\"]\n",
    "    X_val = train.loc[test_index,FEATURES].copy()\n",
    "    y_val = train.loc[test_index,\"CoxPH\"]\n",
    "    X_test = test[FEATURES].copy()\n",
    "    \n",
    "    model_xgb_coxph = XGBRegressor(**param_xgb)\n",
    "    \n",
    "    model_xgb_coxph.fit(\n",
    "        X_train, y_train,\n",
    "        eval_set=[(X_val, y_val)],  \n",
    "        verbose=0,\n",
    "        early_stopping_rounds=300,\n",
    "    )\n",
    "\n",
    "    # INFER OOF\n",
    "    oof_xgb_coxph[test_index] = model_xgb_coxph.predict(X_val)\n",
    "    # INFER TEST\n",
    "    pred_xgb_coxph += model_xgb_coxph.predict(X_test)\n",
    "\n",
    "# COMPUTE AVERAGE TEST PREDS\n",
    "pred_xgb_coxph /= FOLDS"
   ]
  },
  {
   "cell_type": "code",
   "execution_count": 28,
   "id": "5868dad0",
   "metadata": {
    "execution": {
     "iopub.execute_input": "2025-01-22T19:40:07.612710Z",
     "iopub.status.busy": "2025-01-22T19:40:07.612288Z",
     "iopub.status.idle": "2025-01-22T19:40:08.029201Z",
     "shell.execute_reply": "2025-01-22T19:40:08.028034Z"
    },
    "papermill": {
     "duration": 0.450446,
     "end_time": "2025-01-22T19:40:08.030984",
     "exception": false,
     "start_time": "2025-01-22T19:40:07.580538",
     "status": "completed"
    },
    "tags": []
   },
   "outputs": [
    {
     "name": "stdout",
     "output_type": "stream",
     "text": [
      "CV for XGBoost CoxPH 0.6739009259233353\n"
     ]
    }
   ],
   "source": [
    "print('CV for XGBoost CoxPH', res(train, oof_xgb_coxph))\n"
   ]
  },
  {
   "cell_type": "markdown",
   "id": "ad1292ab",
   "metadata": {
    "papermill": {
     "duration": 0.019974,
     "end_time": "2025-01-22T19:40:08.071409",
     "exception": false,
     "start_time": "2025-01-22T19:40:08.051435",
     "status": "completed"
    },
    "tags": []
   },
   "source": [
    "# XGBoost with Cox loss"
   ]
  },
  {
   "cell_type": "code",
   "execution_count": 29,
   "id": "808c8513",
   "metadata": {
    "execution": {
     "iopub.execute_input": "2025-01-22T19:40:08.112319Z",
     "iopub.status.busy": "2025-01-22T19:40:08.111925Z",
     "iopub.status.idle": "2025-01-22T19:40:08.120805Z",
     "shell.execute_reply": "2025-01-22T19:40:08.119711Z"
    },
    "papermill": {
     "duration": 0.03145,
     "end_time": "2025-01-22T19:40:08.122522",
     "exception": false,
     "start_time": "2025-01-22T19:40:08.091072",
     "status": "completed"
    },
    "tags": []
   },
   "outputs": [],
   "source": [
    "# SURVIVAL COX NEEDS THIS TARGET (TO DIGEST EFS AND EFS_TIME)\n",
    "train[\"efs_time2\"] = train.efs_time.copy()\n",
    "train.loc[train.efs==0,\"efs_time2\"] *= -1"
   ]
  },
  {
   "cell_type": "code",
   "execution_count": 30,
   "id": "f7fc8966",
   "metadata": {
    "execution": {
     "iopub.execute_input": "2025-01-22T19:40:08.163095Z",
     "iopub.status.busy": "2025-01-22T19:40:08.162700Z",
     "iopub.status.idle": "2025-01-22T19:40:50.583927Z",
     "shell.execute_reply": "2025-01-22T19:40:50.581796Z"
    },
    "papermill": {
     "duration": 42.443952,
     "end_time": "2025-01-22T19:40:50.586054",
     "exception": false,
     "start_time": "2025-01-22T19:40:08.142102",
     "status": "completed"
    },
    "tags": []
   },
   "outputs": [
    {
     "name": "stdout",
     "output_type": "stream",
     "text": [
      "#########################\n",
      "### Fold 1\n",
      "#########################\n",
      "#########################\n",
      "### Fold 2\n",
      "#########################\n",
      "#########################\n",
      "### Fold 3\n",
      "#########################\n",
      "#########################\n",
      "### Fold 4\n",
      "#########################\n",
      "#########################\n",
      "### Fold 5\n",
      "#########################\n",
      "CPU times: user 2min 45s, sys: 575 ms, total: 2min 45s\n",
      "Wall time: 42.4 s\n"
     ]
    }
   ],
   "source": [
    "%%time\n",
    "kf = KFold(n_splits=FOLDS, shuffle=True, random_state=42)\n",
    "    \n",
    "oof_xgb_cox = np.zeros(len(train))\n",
    "pred_xgb_cox = np.zeros(len(test))\n",
    "\n",
    "for i, (train_index, test_index) in enumerate(kf.split(train)):\n",
    "\n",
    "    print(\"#\"*25)\n",
    "    print(f\"### Fold {i+1}\")\n",
    "    print(\"#\"*25)\n",
    "    \n",
    "    X_train = train.loc[train_index,FEATURES].copy()\n",
    "    y_train = train.loc[train_index,\"efs_time2\"]    \n",
    "    X_val = train.loc[test_index,FEATURES].copy()\n",
    "    y_val = train.loc[test_index,\"efs_time2\"]\n",
    "    X_test = test[FEATURES].copy()\n",
    "\n",
    "    model_xgb_cox = XGBRegressor(**param_cox)\n",
    "    \n",
    "    model_xgb_cox.fit(X_train, y_train, eval_set=[(X_val, y_val)], verbose=0, early_stopping_rounds=300)\n",
    "    \n",
    "    # INFER OOF\n",
    "    oof_xgb_cox[test_index] = model_xgb_cox.predict(X_val)\n",
    "    # INFER TEST\n",
    "    pred_xgb_cox += model_xgb_cox.predict(X_test)\n",
    "\n",
    "# COMPUTE AVERAGE TEST PREDS\n",
    "pred_xgb_cox /= FOLDS"
   ]
  },
  {
   "cell_type": "code",
   "execution_count": 31,
   "id": "ef7afef3",
   "metadata": {
    "execution": {
     "iopub.execute_input": "2025-01-22T19:40:50.629417Z",
     "iopub.status.busy": "2025-01-22T19:40:50.629020Z",
     "iopub.status.idle": "2025-01-22T19:40:51.033534Z",
     "shell.execute_reply": "2025-01-22T19:40:51.032201Z"
    },
    "papermill": {
     "duration": 0.426696,
     "end_time": "2025-01-22T19:40:51.035372",
     "exception": false,
     "start_time": "2025-01-22T19:40:50.608676",
     "status": "completed"
    },
    "tags": []
   },
   "outputs": [
    {
     "name": "stdout",
     "output_type": "stream",
     "text": [
      "CV for XGBoost Cox 0.6708954235505629\n"
     ]
    }
   ],
   "source": [
    "print('CV for XGBoost Cox', res(train, oof_xgb_cox))\n"
   ]
  },
  {
   "cell_type": "code",
   "execution_count": null,
   "id": "e9cd83bd",
   "metadata": {
    "papermill": {
     "duration": 0.021261,
     "end_time": "2025-01-22T19:40:51.078210",
     "exception": false,
     "start_time": "2025-01-22T19:40:51.056949",
     "status": "completed"
    },
    "tags": []
   },
   "outputs": [],
   "source": []
  },
  {
   "cell_type": "markdown",
   "id": "07a26cfa",
   "metadata": {
    "papermill": {
     "duration": 0.020266,
     "end_time": "2025-01-22T19:40:51.118155",
     "exception": false,
     "start_time": "2025-01-22T19:40:51.097889",
     "status": "completed"
    },
    "tags": []
   },
   "source": [
    "# LightGBM KaplanMeier"
   ]
  },
  {
   "cell_type": "code",
   "execution_count": 32,
   "id": "e59bd38c",
   "metadata": {
    "execution": {
     "iopub.execute_input": "2025-01-22T19:40:51.159309Z",
     "iopub.status.busy": "2025-01-22T19:40:51.158946Z",
     "iopub.status.idle": "2025-01-22T19:41:44.311987Z",
     "shell.execute_reply": "2025-01-22T19:41:44.310909Z"
    },
    "papermill": {
     "duration": 53.17583,
     "end_time": "2025-01-22T19:41:44.313965",
     "exception": false,
     "start_time": "2025-01-22T19:40:51.138135",
     "status": "completed"
    },
    "tags": []
   },
   "outputs": [
    {
     "name": "stdout",
     "output_type": "stream",
     "text": [
      "#########################\n",
      "### Fold 1\n",
      "#########################\n",
      "#########################\n",
      "### Fold 2\n",
      "#########################\n",
      "#########################\n",
      "### Fold 3\n",
      "#########################\n",
      "#########################\n",
      "### Fold 4\n",
      "#########################\n",
      "#########################\n",
      "### Fold 5\n",
      "#########################\n",
      "CPU times: user 1min 43s, sys: 2.37 s, total: 1min 45s\n",
      "Wall time: 53.1 s\n"
     ]
    }
   ],
   "source": [
    "%%time\n",
    "kf = KFold(n_splits=FOLDS, shuffle=True, random_state=42)\n",
    "    \n",
    "oof_lgb_km = np.zeros(len(train))\n",
    "pred_lgb_km = np.zeros(len(test))\n",
    "\n",
    "for i, (train_index, test_index) in enumerate(kf.split(train)):\n",
    "\n",
    "    print(\"#\"*25)\n",
    "    print(f\"### Fold {i+1}\")\n",
    "    print(\"#\"*25)\n",
    "    \n",
    "    X_train = train.loc[train_index,FEATURES].copy()\n",
    "    y_train = train.loc[train_index,\"KaplanMeier\"]\n",
    "    X_val = train.loc[test_index,FEATURES].copy()\n",
    "    y_val = train.loc[test_index,\"KaplanMeier\"]\n",
    "    X_test = test[FEATURES].copy()\n",
    "\n",
    "    model_lgb_km = LGBMRegressor(**param_lgb)\n",
    "    \n",
    "    model_lgb_km.fit(\n",
    "        X_train, y_train,\n",
    "        eval_set=[(X_val, y_val)],\n",
    "    )\n",
    "    \n",
    "    # INFER OOF\n",
    "    oof_lgb_km[test_index] = model_lgb_km.predict(X_val)\n",
    "    # INFER TEST\n",
    "    pred_lgb_km += model_lgb_km.predict(X_test)\n",
    "\n",
    "# COMPUTE AVERAGE TEST PREDS\n",
    "pred_lgb_km /= FOLDS"
   ]
  },
  {
   "cell_type": "code",
   "execution_count": 33,
   "id": "fd31ca92",
   "metadata": {
    "execution": {
     "iopub.execute_input": "2025-01-22T19:41:44.357115Z",
     "iopub.status.busy": "2025-01-22T19:41:44.356724Z",
     "iopub.status.idle": "2025-01-22T19:41:44.747089Z",
     "shell.execute_reply": "2025-01-22T19:41:44.745838Z"
    },
    "papermill": {
     "duration": 0.413368,
     "end_time": "2025-01-22T19:41:44.748767",
     "exception": false,
     "start_time": "2025-01-22T19:41:44.335399",
     "status": "completed"
    },
    "tags": []
   },
   "outputs": [
    {
     "name": "stdout",
     "output_type": "stream",
     "text": [
      "CV for LightGBM KaplanMeier 0.673350135835183\n"
     ]
    }
   ],
   "source": [
    "print('CV for LightGBM KaplanMeier', res(train, oof_lgb_km))\n"
   ]
  },
  {
   "cell_type": "markdown",
   "id": "436f7d17",
   "metadata": {
    "papermill": {
     "duration": 0.020334,
     "end_time": "2025-01-22T19:41:44.789448",
     "exception": false,
     "start_time": "2025-01-22T19:41:44.769114",
     "status": "completed"
    },
    "tags": []
   },
   "source": [
    "# LightGBM NelsonAalen"
   ]
  },
  {
   "cell_type": "code",
   "execution_count": 34,
   "id": "0180bfe5",
   "metadata": {
    "execution": {
     "iopub.execute_input": "2025-01-22T19:41:44.833016Z",
     "iopub.status.busy": "2025-01-22T19:41:44.832633Z",
     "iopub.status.idle": "2025-01-22T19:42:36.028974Z",
     "shell.execute_reply": "2025-01-22T19:42:36.027749Z"
    },
    "papermill": {
     "duration": 51.221989,
     "end_time": "2025-01-22T19:42:36.032136",
     "exception": false,
     "start_time": "2025-01-22T19:41:44.810147",
     "status": "completed"
    },
    "tags": []
   },
   "outputs": [
    {
     "name": "stdout",
     "output_type": "stream",
     "text": [
      "#########################\n",
      "### Fold 1\n",
      "#########################\n",
      "#########################\n",
      "### Fold 2\n",
      "#########################\n",
      "#########################\n",
      "### Fold 3\n",
      "#########################\n",
      "#########################\n",
      "### Fold 4\n",
      "#########################\n",
      "#########################\n",
      "### Fold 5\n",
      "#########################\n",
      "CPU times: user 1min 39s, sys: 2.26 s, total: 1min 41s\n",
      "Wall time: 51.2 s\n"
     ]
    }
   ],
   "source": [
    "%%time\n",
    "kf = KFold(n_splits=FOLDS, shuffle=True, random_state=42)\n",
    "    \n",
    "oof_lgb_na = np.zeros(len(train))\n",
    "pred_lgb_na = np.zeros(len(test))\n",
    "\n",
    "for i, (train_index, test_index) in enumerate(kf.split(train)):\n",
    "\n",
    "    print(\"#\"*25)\n",
    "    print(f\"### Fold {i+1}\")\n",
    "    print(\"#\"*25)\n",
    "    \n",
    "    X_train = train.loc[train_index,FEATURES].copy()\n",
    "    y_train = train.loc[train_index,\"NelsonAalen\"]\n",
    "    X_val = train.loc[test_index,FEATURES].copy()\n",
    "    y_val = train.loc[test_index,\"NelsonAalen\"]\n",
    "    X_test = test[FEATURES].copy()\n",
    "\n",
    "    model_lgb_na = LGBMRegressor(**param_lgb)\n",
    "    \n",
    "    model_lgb_na.fit(\n",
    "        X_train, y_train,\n",
    "        eval_set=[(X_val, y_val)],\n",
    "    )\n",
    "    \n",
    "    # INFER OOF\n",
    "    oof_lgb_na[test_index] = model_lgb_na.predict(X_val)\n",
    "    # INFER TEST\n",
    "    pred_lgb_na += model_lgb_na.predict(X_test)\n",
    "\n",
    "# COMPUTE AVERAGE TEST PREDS\n",
    "pred_lgb_na /= FOLDS"
   ]
  },
  {
   "cell_type": "code",
   "execution_count": 35,
   "id": "375198ce",
   "metadata": {
    "execution": {
     "iopub.execute_input": "2025-01-22T19:42:36.078789Z",
     "iopub.status.busy": "2025-01-22T19:42:36.078449Z",
     "iopub.status.idle": "2025-01-22T19:42:36.472096Z",
     "shell.execute_reply": "2025-01-22T19:42:36.470827Z"
    },
    "papermill": {
     "duration": 0.417136,
     "end_time": "2025-01-22T19:42:36.473833",
     "exception": false,
     "start_time": "2025-01-22T19:42:36.056697",
     "status": "completed"
    },
    "tags": []
   },
   "outputs": [
    {
     "name": "stdout",
     "output_type": "stream",
     "text": [
      "CV for LightGBM NelsonAalen 0.675264571123041\n"
     ]
    }
   ],
   "source": [
    "print('CV for LightGBM NelsonAalen', res(train, oof_lgb_na))\n"
   ]
  },
  {
   "cell_type": "markdown",
   "id": "97c28f0b",
   "metadata": {
    "papermill": {
     "duration": 0.020162,
     "end_time": "2025-01-22T19:42:36.515163",
     "exception": false,
     "start_time": "2025-01-22T19:42:36.495001",
     "status": "completed"
    },
    "tags": []
   },
   "source": [
    "# LightGBM CoxPH"
   ]
  },
  {
   "cell_type": "code",
   "execution_count": 36,
   "id": "fd94f78b",
   "metadata": {
    "execution": {
     "iopub.execute_input": "2025-01-22T19:42:36.558804Z",
     "iopub.status.busy": "2025-01-22T19:42:36.558398Z",
     "iopub.status.idle": "2025-01-22T19:43:26.429244Z",
     "shell.execute_reply": "2025-01-22T19:43:26.428269Z"
    },
    "papermill": {
     "duration": 49.894649,
     "end_time": "2025-01-22T19:43:26.431222",
     "exception": false,
     "start_time": "2025-01-22T19:42:36.536573",
     "status": "completed"
    },
    "tags": []
   },
   "outputs": [
    {
     "name": "stdout",
     "output_type": "stream",
     "text": [
      "#########################\n",
      "### Fold 1\n",
      "#########################\n",
      "#########################\n",
      "### Fold 2\n",
      "#########################\n",
      "#########################\n",
      "### Fold 3\n",
      "#########################\n",
      "#########################\n",
      "### Fold 4\n",
      "#########################\n",
      "#########################\n",
      "### Fold 5\n",
      "#########################\n"
     ]
    }
   ],
   "source": [
    "kf = KFold(n_splits=FOLDS, shuffle=True, random_state=42)\n",
    "    \n",
    "oof_lgb_coxph = np.zeros(len(train))\n",
    "pred_lgb_coxph = np.zeros(len(test))\n",
    "\n",
    "for i, (train_index, test_index) in enumerate(kf.split(train)):\n",
    "\n",
    "    print(\"#\"*25)\n",
    "    print(f\"### Fold {i+1}\")\n",
    "    print(\"#\"*25)\n",
    "    \n",
    "    X_train = train.loc[train_index,FEATURES].copy()\n",
    "    y_train = train.loc[train_index,\"CoxPH\"]\n",
    "    X_val = train.loc[test_index,FEATURES].copy()\n",
    "    y_val = train.loc[test_index,\"CoxPH\"]\n",
    "    X_test = test[FEATURES].copy()\n",
    "\n",
    "    model_lgb_coxph = LGBMRegressor(**param_lgb)\n",
    "    \n",
    "    model_lgb_coxph.fit(\n",
    "        X_train, y_train,\n",
    "        eval_set=[(X_val, y_val)],\n",
    "    )\n",
    "    \n",
    "    # INFER OOF\n",
    "    oof_lgb_coxph[test_index] = model_lgb_coxph.predict(X_val)\n",
    "    # INFER TEST\n",
    "    pred_lgb_coxph += model_lgb_coxph.predict(X_test)\n",
    "\n",
    "# COMPUTE AVERAGE TEST PREDS\n",
    "pred_lgb_coxph /= FOLDS"
   ]
  },
  {
   "cell_type": "code",
   "execution_count": 37,
   "id": "bcbae228",
   "metadata": {
    "execution": {
     "iopub.execute_input": "2025-01-22T19:43:26.476563Z",
     "iopub.status.busy": "2025-01-22T19:43:26.476019Z",
     "iopub.status.idle": "2025-01-22T19:43:26.871152Z",
     "shell.execute_reply": "2025-01-22T19:43:26.869830Z"
    },
    "papermill": {
     "duration": 0.41939,
     "end_time": "2025-01-22T19:43:26.873148",
     "exception": false,
     "start_time": "2025-01-22T19:43:26.453758",
     "status": "completed"
    },
    "tags": []
   },
   "outputs": [
    {
     "name": "stdout",
     "output_type": "stream",
     "text": [
      "CV for LightGBM CoxPH 0.6734052448891039\n"
     ]
    }
   ],
   "source": [
    "print('CV for LightGBM CoxPH', res(train, oof_lgb_coxph))\n"
   ]
  },
  {
   "cell_type": "markdown",
   "id": "566f12de",
   "metadata": {
    "papermill": {
     "duration": 0.020871,
     "end_time": "2025-01-22T19:43:26.915120",
     "exception": false,
     "start_time": "2025-01-22T19:43:26.894249",
     "status": "completed"
    },
    "tags": []
   },
   "source": [
    "# Resulting CV scores"
   ]
  },
  {
   "cell_type": "code",
   "execution_count": 38,
   "id": "da60bc6f",
   "metadata": {
    "execution": {
     "iopub.execute_input": "2025-01-22T19:43:26.964339Z",
     "iopub.status.busy": "2025-01-22T19:43:26.963885Z",
     "iopub.status.idle": "2025-01-22T19:43:29.749296Z",
     "shell.execute_reply": "2025-01-22T19:43:29.748052Z"
    },
    "papermill": {
     "duration": 2.812033,
     "end_time": "2025-01-22T19:43:29.751106",
     "exception": false,
     "start_time": "2025-01-22T19:43:26.939073",
     "status": "completed"
    },
    "tags": []
   },
   "outputs": [
    {
     "name": "stdout",
     "output_type": "stream",
     "text": [
      "##########\n",
      "RESULTS\n",
      "##########\n",
      "CV for XGBoost KaplanMeier  0.6743965106178352\n",
      "CV for XGBoost NelsonAalen  0.6769502021393393\n",
      "CV for XGBoost CoxPH        0.6739009259233353\n",
      "CV for XGBoost Cox Loss     0.6708954235505629\n",
      "##########\n",
      "CV for LightGBM KaplanMeier 0.673350135835183\n",
      "CV for LightGBM NelsonAalen 0.675264571123041\n",
      "CV for LightGBM CoxPH       0.6734052448891039\n"
     ]
    }
   ],
   "source": [
    "print(10 * '#')\n",
    "print('RESULTS')\n",
    "print(10 * '#')\n",
    "print('CV for XGBoost KaplanMeier ', res(train, oof_xgb_km))\n",
    "print('CV for XGBoost NelsonAalen ', res(train, oof_xgb_na))\n",
    "print('CV for XGBoost CoxPH       ', res(train, oof_xgb_coxph))\n",
    "print('CV for XGBoost Cox Loss    ', res(train, oof_xgb_cox))\n",
    "print(10 * '#')\n",
    "print('CV for LightGBM KaplanMeier', res(train, oof_lgb_km))\n",
    "print('CV for LightGBM NelsonAalen', res(train, oof_lgb_na))\n",
    "print('CV for LightGBM CoxPH      ', res(train, oof_lgb_coxph))"
   ]
  },
  {
   "cell_type": "markdown",
   "id": "06823282",
   "metadata": {
    "papermill": {
     "duration": 0.021105,
     "end_time": "2025-01-22T19:43:29.793997",
     "exception": false,
     "start_time": "2025-01-22T19:43:29.772892",
     "status": "completed"
    },
    "tags": []
   },
   "source": [
    "# Making submission"
   ]
  },
  {
   "cell_type": "code",
   "execution_count": 39,
   "id": "1bd7a2a6",
   "metadata": {
    "execution": {
     "iopub.execute_input": "2025-01-22T19:43:29.838969Z",
     "iopub.status.busy": "2025-01-22T19:43:29.838526Z",
     "iopub.status.idle": "2025-01-22T19:43:29.869021Z",
     "shell.execute_reply": "2025-01-22T19:43:29.868035Z"
    },
    "papermill": {
     "duration": 0.054994,
     "end_time": "2025-01-22T19:43:29.871011",
     "exception": false,
     "start_time": "2025-01-22T19:43:29.816017",
     "status": "completed"
    },
    "tags": []
   },
   "outputs": [],
   "source": [
    "from scipy.stats import rankdata\n",
    "\n",
    "oof_models = [\n",
    "    rankdata(oof_xgb_km),\n",
    "    rankdata(oof_xgb_na),\n",
    "    rankdata(oof_xgb_coxph),\n",
    "    rankdata(oof_xgb_cox),\n",
    "    rankdata(oof_lgb_km),\n",
    "    rankdata(oof_lgb_na),\n",
    "    rankdata(oof_lgb_coxph)\n",
    "]\n",
    "\n",
    "pred_models = [\n",
    "    rankdata(pred_xgb_km),\n",
    "    rankdata(pred_xgb_na),\n",
    "    rankdata(pred_xgb_coxph),\n",
    "    rankdata(pred_xgb_cox),\n",
    "    rankdata(pred_lgb_km),\n",
    "    rankdata(pred_lgb_na),\n",
    "    rankdata(pred_lgb_coxph)\n",
    "]"
   ]
  },
  {
   "cell_type": "code",
   "execution_count": 40,
   "id": "21a2d18d",
   "metadata": {
    "execution": {
     "iopub.execute_input": "2025-01-22T19:43:29.916343Z",
     "iopub.status.busy": "2025-01-22T19:43:29.915989Z",
     "iopub.status.idle": "2025-01-22T19:43:30.327592Z",
     "shell.execute_reply": "2025-01-22T19:43:30.326167Z"
    },
    "papermill": {
     "duration": 0.43638,
     "end_time": "2025-01-22T19:43:30.329239",
     "exception": false,
     "start_time": "2025-01-22T19:43:29.892859",
     "status": "completed"
    },
    "tags": []
   },
   "outputs": [
    {
     "name": "stdout",
     "output_type": "stream",
     "text": [
      "Overall CV 0.6793586134484725\n"
     ]
    }
   ],
   "source": [
    "coefs = [3, 2, 5, 10, 1, 1, 2]\n",
    "oof = 0\n",
    "for coef, model in zip(coefs, oof_models):\n",
    "        oof += coef * model\n",
    "print('Overall CV', res(train , oof))"
   ]
  },
  {
   "cell_type": "code",
   "execution_count": null,
   "id": "27575c0a",
   "metadata": {
    "papermill": {
     "duration": 0.022618,
     "end_time": "2025-01-22T19:43:30.375105",
     "exception": false,
     "start_time": "2025-01-22T19:43:30.352487",
     "status": "completed"
    },
    "tags": []
   },
   "outputs": [],
   "source": []
  },
  {
   "cell_type": "code",
   "execution_count": 41,
   "id": "67e15073",
   "metadata": {
    "execution": {
     "iopub.execute_input": "2025-01-22T19:43:30.421174Z",
     "iopub.status.busy": "2025-01-22T19:43:30.420808Z",
     "iopub.status.idle": "2025-01-22T19:43:30.436409Z",
     "shell.execute_reply": "2025-01-22T19:43:30.434922Z"
    },
    "papermill": {
     "duration": 0.041459,
     "end_time": "2025-01-22T19:43:30.438342",
     "exception": false,
     "start_time": "2025-01-22T19:43:30.396883",
     "status": "completed"
    },
    "tags": []
   },
   "outputs": [],
   "source": [
    "ids = test['ID']\n",
    "preds = 0    \n",
    "for coef, model in zip(coefs, pred_models):\n",
    "        preds += coef * model\n",
    "\n",
    "output = pd.DataFrame(data={'ID': ids, 'prediction': preds})\n",
    "output.to_csv('submission.csv', index=False)"
   ]
  },
  {
   "cell_type": "code",
   "execution_count": null,
   "id": "a60fe296",
   "metadata": {
    "papermill": {
     "duration": 0.023779,
     "end_time": "2025-01-22T19:43:30.484586",
     "exception": false,
     "start_time": "2025-01-22T19:43:30.460807",
     "status": "completed"
    },
    "tags": []
   },
   "outputs": [],
   "source": []
  }
 ],
 "metadata": {
  "kaggle": {
   "accelerator": "none",
   "dataSources": [
    {
     "databundleVersionId": 10381525,
     "sourceId": 70942,
     "sourceType": "competition"
    },
    {
     "sourceId": 211322530,
     "sourceType": "kernelVersion"
    },
    {
     "sourceId": 217519828,
     "sourceType": "kernelVersion"
    }
   ],
   "dockerImageVersionId": 30839,
   "isGpuEnabled": false,
   "isInternetEnabled": true,
   "language": "python",
   "sourceType": "notebook"
  },
  "kernelspec": {
   "display_name": "Python 3",
   "language": "python",
   "name": "python3"
  },
  "language_info": {
   "codemirror_mode": {
    "name": "ipython",
    "version": 3
   },
   "file_extension": ".py",
   "mimetype": "text/x-python",
   "name": "python",
   "nbconvert_exporter": "python",
   "pygments_lexer": "ipython3",
   "version": "3.10.12"
  },
  "papermill": {
   "default_parameters": {},
   "duration": 861.922808,
   "end_time": "2025-01-22T19:43:31.635101",
   "environment_variables": {},
   "exception": null,
   "input_path": "__notebook__.ipynb",
   "output_path": "__notebook__.ipynb",
   "parameters": {},
   "start_time": "2025-01-22T19:29:09.712293",
   "version": "2.6.0"
  }
 },
 "nbformat": 4,
 "nbformat_minor": 5
}
